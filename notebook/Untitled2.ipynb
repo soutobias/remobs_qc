{
 "cells": [
  {
   "cell_type": "code",
   "execution_count": 1,
   "id": "laughing-return",
   "metadata": {},
   "outputs": [],
   "source": [
    "import sys\n",
    "import os\n",
    "\n",
    "home_path = os.environ['HOME']\n",
    "cwd_path = home_path + '/code/soutobias/personal_codes/remobs/remobs_qc/boias/bmo_br/real_time/'\n",
    "bd_path = home_path + '/code/soutobias/personal_codes/remobs/remobs_qc/boias/bmo_br/bd'\n",
    "\n",
    "sys.path.append(cwd_path)\n",
    "sys.path.append(bd_path)\n",
    "\n",
    "from bmo_database import *\n",
    "from bmo_message import *\n",
    "from user_config import URL_TOKEN, PAYLOAD_TOKEN, HEADERS_TOKEN, URL_BMO"
   ]
  },
  {
   "cell_type": "code",
   "execution_count": 3,
   "id": "absent-publication",
   "metadata": {},
   "outputs": [],
   "source": [
    "\n",
    "conn = connect_database_remo('PRI')\n",
    "\n",
    "last_id_message = get_id_sat_message(conn, 'CHM1')\n",
    "id_message = last_id_message[0][0]\n"
   ]
  },
  {
   "cell_type": "code",
   "execution_count": 7,
   "id": "hairy-pattern",
   "metadata": {},
   "outputs": [
    {
     "data": {
      "text/plain": [
       "14398"
      ]
     },
     "execution_count": 7,
     "metadata": {},
     "output_type": "execute_result"
    }
   ],
   "source": [
    "id_message"
   ]
  },
  {
   "cell_type": "code",
   "execution_count": 8,
   "id": "quick-convenience",
   "metadata": {},
   "outputs": [
    {
     "name": "stdout",
     "output_type": "stream",
     "text": [
      "Page 1\n"
     ]
    }
   ],
   "source": [
    "df_bmo_raw = get_data_from_url(URL_TOKEN, PAYLOAD_TOKEN, HEADERS_TOKEN, URL_BMO, 14393)"
   ]
  },
  {
   "cell_type": "code",
   "execution_count": 9,
   "id": "structural-presence",
   "metadata": {},
   "outputs": [
    {
     "data": {
      "text/html": [
       "<div>\n",
       "<style scoped>\n",
       "    .dataframe tbody tr th:only-of-type {\n",
       "        vertical-align: middle;\n",
       "    }\n",
       "\n",
       "    .dataframe tbody tr th {\n",
       "        vertical-align: top;\n",
       "    }\n",
       "\n",
       "    .dataframe thead th {\n",
       "        text-align: right;\n",
       "    }\n",
       "</style>\n",
       "<table border=\"1\" class=\"dataframe\">\n",
       "  <thead>\n",
       "    <tr style=\"text-align: right;\">\n",
       "      <th></th>\n",
       "      <th>id</th>\n",
       "      <th>date</th>\n",
       "      <th>type</th>\n",
       "      <th>data</th>\n",
       "    </tr>\n",
       "  </thead>\n",
       "  <tbody>\n",
       "    <tr>\n",
       "      <th>0</th>\n",
       "      <td>14394</td>\n",
       "      <td>2021-10-05T15:02:00.753</td>\n",
       "      <td>remo</td>\n",
       "      <td>RE[CHM1;2021;10;05;12;00;-25.5103;-42.7250;14....</td>\n",
       "    </tr>\n",
       "    <tr>\n",
       "      <th>1</th>\n",
       "      <td>14395</td>\n",
       "      <td>2021-10-05T16:01:07.153</td>\n",
       "      <td>axys</td>\n",
       "      <td>incio[?MNM\\r\\n\\r\\n###\\r\\n******]fim\\r\\n</td>\n",
       "    </tr>\n",
       "    <tr>\n",
       "      <th>2</th>\n",
       "      <td>14396</td>\n",
       "      <td>2021-10-05T16:02:07.533</td>\n",
       "      <td>remo</td>\n",
       "      <td>RE[CHM1;2021;10;05;13;00;-25.5102;-42.7249;14....</td>\n",
       "    </tr>\n",
       "    <tr>\n",
       "      <th>3</th>\n",
       "      <td>14397</td>\n",
       "      <td>2021-10-05T17:01:41.073</td>\n",
       "      <td>axys</td>\n",
       "      <td>incio[?MNM\\r\\n\\r\\n###\\r\\n******]fim\\r\\n</td>\n",
       "    </tr>\n",
       "    <tr>\n",
       "      <th>4</th>\n",
       "      <td>14398</td>\n",
       "      <td>2021-10-05T17:03:42.057</td>\n",
       "      <td>remo</td>\n",
       "      <td>RE[CHM1;2021;10;05;14;00;-25.5105;-42.7248;14....</td>\n",
       "    </tr>\n",
       "  </tbody>\n",
       "</table>\n",
       "</div>"
      ],
      "text/plain": [
       "      id                     date  type  \\\n",
       "0  14394  2021-10-05T15:02:00.753  remo   \n",
       "1  14395  2021-10-05T16:01:07.153  axys   \n",
       "2  14396  2021-10-05T16:02:07.533  remo   \n",
       "3  14397  2021-10-05T17:01:41.073  axys   \n",
       "4  14398  2021-10-05T17:03:42.057  remo   \n",
       "\n",
       "                                                data  \n",
       "0  RE[CHM1;2021;10;05;12;00;-25.5103;-42.7250;14....  \n",
       "1            incio[?MNM\\r\\n\\r\\n###\\r\\n******]fim\\r\\n  \n",
       "2  RE[CHM1;2021;10;05;13;00;-25.5102;-42.7249;14....  \n",
       "3            incio[?MNM\\r\\n\\r\\n###\\r\\n******]fim\\r\\n  \n",
       "4  RE[CHM1;2021;10;05;14;00;-25.5105;-42.7248;14....  "
      ]
     },
     "execution_count": 9,
     "metadata": {},
     "output_type": "execute_result"
    }
   ],
   "source": [
    "df_bmo_raw"
   ]
  },
  {
   "cell_type": "code",
   "execution_count": null,
   "id": "expected-language",
   "metadata": {},
   "outputs": [],
   "source": []
  }
 ],
 "metadata": {
  "kernelspec": {
   "display_name": "Python 3",
   "language": "python",
   "name": "python3"
  },
  "language_info": {
   "codemirror_mode": {
    "name": "ipython",
    "version": 3
   },
   "file_extension": ".py",
   "mimetype": "text/x-python",
   "name": "python",
   "nbconvert_exporter": "python",
   "pygments_lexer": "ipython3",
   "version": "3.8.6"
  },
  "toc": {
   "base_numbering": 1,
   "nav_menu": {},
   "number_sections": true,
   "sideBar": true,
   "skip_h1_title": false,
   "title_cell": "Table of Contents",
   "title_sidebar": "Contents",
   "toc_cell": false,
   "toc_position": {},
   "toc_section_display": true,
   "toc_window_display": false
  }
 },
 "nbformat": 4,
 "nbformat_minor": 5
}
