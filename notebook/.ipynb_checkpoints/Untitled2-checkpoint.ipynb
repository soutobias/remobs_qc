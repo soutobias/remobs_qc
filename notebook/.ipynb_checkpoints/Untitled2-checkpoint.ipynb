{
 "cells": [
  {
   "cell_type": "code",
   "execution_count": 6,
   "id": "laughing-return",
   "metadata": {},
   "outputs": [
    {
     "ename": "ImportError",
     "evalue": "cannot import name 'URL_TOKEN' from 'user_config' (/home/soutobias/user_config.py)",
     "output_type": "error",
     "traceback": [
      "\u001b[0;31m---------------------------------------------------------------------------\u001b[0m",
      "\u001b[0;31mImportError\u001b[0m                               Traceback (most recent call last)",
      "\u001b[0;32m<ipython-input-6-0e9025ecf308>\u001b[0m in \u001b[0;36m<module>\u001b[0;34m\u001b[0m\n\u001b[1;32m     11\u001b[0m \u001b[0;32mfrom\u001b[0m \u001b[0mbmo_database\u001b[0m \u001b[0;32mimport\u001b[0m \u001b[0;34m*\u001b[0m\u001b[0;34m\u001b[0m\u001b[0;34m\u001b[0m\u001b[0m\n\u001b[1;32m     12\u001b[0m \u001b[0;32mfrom\u001b[0m \u001b[0mbmo_message\u001b[0m \u001b[0;32mimport\u001b[0m \u001b[0;34m*\u001b[0m\u001b[0;34m\u001b[0m\u001b[0;34m\u001b[0m\u001b[0m\n\u001b[0;32m---> 13\u001b[0;31m \u001b[0;32mfrom\u001b[0m \u001b[0muser_config\u001b[0m \u001b[0;32mimport\u001b[0m \u001b[0mURL_TOKEN\u001b[0m\u001b[0;34m,\u001b[0m \u001b[0mPAYLOAD_TOKEN\u001b[0m\u001b[0;34m,\u001b[0m \u001b[0mHEADERS_TOKEN\u001b[0m\u001b[0;34m,\u001b[0m \u001b[0mURL_BMO\u001b[0m\u001b[0;34m\u001b[0m\u001b[0;34m\u001b[0m\u001b[0m\n\u001b[0m",
      "\u001b[0;31mImportError\u001b[0m: cannot import name 'URL_TOKEN' from 'user_config' (/home/soutobias/user_config.py)"
     ]
    }
   ],
   "source": [
    "import sys\n",
    "import os\n",
    "\n",
    "home_path = os.environ['HOME']\n",
    "cwd_path = home_path + '/code/soutobias/personal_codes/remobs/remobs_qc/boias/bmo_br/real_time/'\n",
    "bd_path = home_path + '/code/soutobias/personal_codes/remobs/remobs_qc/boias/bmo_br/bd'\n",
    "\n",
    "sys.path.append(cwd_path)\n",
    "sys.path.append(bd_path)\n",
    "\n",
    "from bmo_database import *\n",
    "from bmo_message import *\n",
    "from user_config import URL_TOKEN, PAYLOAD_TOKEN, HEADERS_TOKEN, URL_BMO"
   ]
  },
  {
   "cell_type": "code",
   "execution_count": 5,
   "id": "innocent-translation",
   "metadata": {},
   "outputs": [
    {
     "data": {
      "text/plain": [
       "'/home/soutobiascode/soutobias/personal_codes/remobs/remobs_qc/boias/bmo_br/real_time/'"
      ]
     },
     "execution_count": 5,
     "metadata": {},
     "output_type": "execute_result"
    }
   ],
   "source": [
    "cwd_path"
   ]
  },
  {
   "cell_type": "code",
   "execution_count": 7,
   "id": "absent-publication",
   "metadata": {},
   "outputs": [],
   "source": [
    "\n",
    "conn = connect_database_remo('PRI')\n",
    "\n",
    "last_id_message = get_id_sat_message(conn, 'CHM1')\n",
    "id_message = last_id_message[0][0]\n"
   ]
  },
  {
   "cell_type": "code",
   "execution_count": 10,
   "id": "quick-convenience",
   "metadata": {},
   "outputs": [
    {
     "data": {
      "text/plain": [
       "14392"
      ]
     },
     "execution_count": 10,
     "metadata": {},
     "output_type": "execute_result"
    }
   ],
   "source": [
    "df_bmo_raw = get_data_from_url(URL_TOKEN, PAYLOAD_TOKEN, HEADERS_TOKEN, URL_BMO, id_message)"
   ]
  }
 ],
 "metadata": {
  "kernelspec": {
   "display_name": "Python 3",
   "language": "python",
   "name": "python3"
  },
  "language_info": {
   "codemirror_mode": {
    "name": "ipython",
    "version": 3
   },
   "file_extension": ".py",
   "mimetype": "text/x-python",
   "name": "python",
   "nbconvert_exporter": "python",
   "pygments_lexer": "ipython3",
   "version": "3.8.6"
  },
  "toc": {
   "base_numbering": 1,
   "nav_menu": {},
   "number_sections": true,
   "sideBar": true,
   "skip_h1_title": false,
   "title_cell": "Table of Contents",
   "title_sidebar": "Contents",
   "toc_cell": false,
   "toc_position": {},
   "toc_section_display": true,
   "toc_window_display": false
  }
 },
 "nbformat": 4,
 "nbformat_minor": 5
}
