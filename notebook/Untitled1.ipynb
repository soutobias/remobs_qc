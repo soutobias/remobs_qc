{
 "cells": [
  {
   "cell_type": "code",
   "execution_count": 1,
   "id": "serious-blanket",
   "metadata": {},
   "outputs": [],
   "source": [
    "%load_ext autoreload\n",
    "%autoreload 2\n",
    "import pandas as pd\n",
    "import matplotlib.pyplot as plt\n",
    "import matplotlib\n",
    "import pandas as pd\n",
    "import numpy as np"
   ]
  },
  {
   "cell_type": "code",
   "execution_count": 2,
   "id": "filled-services",
   "metadata": {},
   "outputs": [],
   "source": [
    "import sys\n",
    "import os\n",
    "home_path = os.environ['HOME']\n",
    "abs_dir = os.path.dirname(os.getcwd())\n",
    "cwd_path = os.path.join(abs_dir, 'boias', 'axys', 'real_time')\n",
    "bd_path = os.path.join(abs_dir, 'boias', 'axys', 'bd')\n"
   ]
  },
  {
   "cell_type": "code",
   "execution_count": 9,
   "id": "facial-offense",
   "metadata": {},
   "outputs": [],
   "source": [
    "sys.path.append(cwd_path)\n",
    "sys.path.append(bd_path)\n",
    "from axys_database import *\n",
    "from adjust_data import *\n",
    "import telnet_download\n",
    "import user_config as user_config\n",
    "\n",
    "# import axys_quality_control as bqc"
   ]
  },
  {
   "cell_type": "code",
   "execution_count": 14,
   "id": "sorted-butler",
   "metadata": {},
   "outputs": [
    {
     "name": "stdout",
     "output_type": "stream",
     "text": [
      "Successful connect to the server...\n",
      "Collecting data from argos_id 206837...\n",
      "PRV,5655,DS,,206837\n",
      "\n",
      "Receive data: \n",
      "\n"
     ]
    }
   ],
   "source": [
    "sat_number = 206837\n",
    "raw_data = telnet_download.download_raw_tag(sat_number, user_config)"
   ]
  },
  {
   "cell_type": "code",
   "execution_count": 30,
   "id": "alleged-blank",
   "metadata": {},
   "outputs": [],
   "source": [
    "import re"
   ]
  },
  {
   "cell_type": "code",
   "execution_count": 44,
   "id": "cloudy-canadian",
   "metadata": {},
   "outputs": [],
   "source": [
    "regex = '\\d{4}-\\d{2}-\\d{2} \\d{2}:\\d{2}:\\d{2} -\\d{2}.\\d{3}. \\d{3}.\\d{3}'\n",
    "values = re.findall(regex, raw_data)"
   ]
  },
  {
   "cell_type": "code",
   "execution_count": 48,
   "id": "compact-program",
   "metadata": {},
   "outputs": [],
   "source": [
    "dates = []\n",
    "lat = []\n",
    "lon = []\n",
    "for value in values:\n",
    "    value = value.replace('  ', ' ').split(' ')\n",
    "    dates.append(value[0] + ' ' + value[1])\n",
    "    lat.append(value[2])\n",
    "    lon.append(value[3])"
   ]
  },
  {
   "cell_type": "code",
   "execution_count": 55,
   "id": "level-alert",
   "metadata": {},
   "outputs": [
    {
     "data": {
      "text/html": [
       "<div>\n",
       "<style scoped>\n",
       "    .dataframe tbody tr th:only-of-type {\n",
       "        vertical-align: middle;\n",
       "    }\n",
       "\n",
       "    .dataframe tbody tr th {\n",
       "        vertical-align: top;\n",
       "    }\n",
       "\n",
       "    .dataframe thead th {\n",
       "        text-align: right;\n",
       "    }\n",
       "</style>\n",
       "<table border=\"1\" class=\"dataframe\">\n",
       "  <thead>\n",
       "    <tr style=\"text-align: right;\">\n",
       "      <th></th>\n",
       "      <th>date_time</th>\n",
       "      <th>lat</th>\n",
       "      <th>lon</th>\n",
       "    </tr>\n",
       "  </thead>\n",
       "  <tbody>\n",
       "    <tr>\n",
       "      <th>0</th>\n",
       "      <td>2021-04-19 09:02:06</td>\n",
       "      <td>-25.275</td>\n",
       "      <td>-43.038</td>\n",
       "    </tr>\n",
       "    <tr>\n",
       "      <th>1</th>\n",
       "      <td>2021-04-19 08:59:03</td>\n",
       "      <td>-25.283</td>\n",
       "      <td>-43.068</td>\n",
       "    </tr>\n",
       "    <tr>\n",
       "      <th>2</th>\n",
       "      <td>2021-04-19 09:28:09</td>\n",
       "      <td>-25.280</td>\n",
       "      <td>-43.032</td>\n",
       "    </tr>\n",
       "    <tr>\n",
       "      <th>3</th>\n",
       "      <td>2021-04-19 09:53:45</td>\n",
       "      <td>-25.286</td>\n",
       "      <td>-43.042</td>\n",
       "    </tr>\n",
       "    <tr>\n",
       "      <th>4</th>\n",
       "      <td>2021-04-19 09:57:12</td>\n",
       "      <td>-25.287</td>\n",
       "      <td>-43.042</td>\n",
       "    </tr>\n",
       "    <tr>\n",
       "      <th>5</th>\n",
       "      <td>2021-04-19 10:09:38</td>\n",
       "      <td>-25.287</td>\n",
       "      <td>-43.042</td>\n",
       "    </tr>\n",
       "  </tbody>\n",
       "</table>\n",
       "</div>"
      ],
      "text/plain": [
       "            date_time     lat     lon\n",
       "0 2021-04-19 09:02:06 -25.275 -43.038\n",
       "1 2021-04-19 08:59:03 -25.283 -43.068\n",
       "2 2021-04-19 09:28:09 -25.280 -43.032\n",
       "3 2021-04-19 09:53:45 -25.286 -43.042\n",
       "4 2021-04-19 09:57:12 -25.287 -43.042\n",
       "5 2021-04-19 10:09:38 -25.287 -43.042"
      ]
     },
     "execution_count": 55,
     "metadata": {},
     "output_type": "execute_result"
    }
   ],
   "source": [
    "df = pd.DataFrame(np.array([dates, lat, lon]).T, columns=['date_time', 'lat', 'lon'])\n",
    "df['date_time'] = pd.to_datetime(df['date_time'], format='%Y-%m-%d %H:%M:%S')\n",
    "df['lon'] = pd.to_numeric(df['lon']) - 360\n",
    "df['lat'] = pd.to_numeric(df['lat'])\n",
    "df"
   ]
  },
  {
   "cell_type": "code",
   "execution_count": null,
   "id": "colored-cambodia",
   "metadata": {},
   "outputs": [],
   "source": []
  }
 ],
 "metadata": {
  "kernelspec": {
   "display_name": "Python 3",
   "language": "python",
   "name": "python3"
  },
  "language_info": {
   "codemirror_mode": {
    "name": "ipython",
    "version": 3
   },
   "file_extension": ".py",
   "mimetype": "text/x-python",
   "name": "python",
   "nbconvert_exporter": "python",
   "pygments_lexer": "ipython3",
   "version": "3.8.6"
  }
 },
 "nbformat": 4,
 "nbformat_minor": 5
}
