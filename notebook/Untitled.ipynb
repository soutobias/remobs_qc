{
 "cells": [
  {
   "cell_type": "code",
   "execution_count": 36,
   "id": "leading-hepatitis",
   "metadata": {},
   "outputs": [],
   "source": [
    "%load_ext autoreload\n",
    "%autoreload 2\n",
    "import sys\n",
    "import os\n",
    "home_path = os.environ['HOME']\n",
    "abs_dir = os.path.dirname(os.getcwd())\n",
    "cwd_path = os.path.join(abs_dir, 'boias', 'bmo_br', 'real_time')\n",
    "bd_path = os.path.join(abs_dir, 'boias', 'bmo_br', 'bd')"
   ]
  },
  {
   "cell_type": "code",
   "execution_count": 5,
   "id": "finished-hanging",
   "metadata": {},
   "outputs": [],
   "source": [
    "\n",
    "\n",
    "sys.path.append(cwd_path)\n",
    "sys.path.append(bd_path)\n",
    "\n",
    "\n",
    "from bmo_database import *\n",
    "from bmo_adjust_data import *\n",
    "import bmo_quality_control as bqc\n",
    "\n",
    "import pandas as pd"
   ]
  },
  {
   "cell_type": "code",
   "execution_count": 23,
   "id": "standing-concentrate",
   "metadata": {},
   "outputs": [],
   "source": [
    "import numpy as np"
   ]
  },
  {
   "cell_type": "code",
   "execution_count": 6,
   "id": "dense-prospect",
   "metadata": {},
   "outputs": [],
   "source": [
    "conn = connect_database_remo('PRI')\n",
    "\n",
    "buoy_id = bmo_on(conn)"
   ]
  },
  {
   "cell_type": "code",
   "execution_count": 7,
   "id": "ordinary-samoa",
   "metadata": {},
   "outputs": [
    {
     "data": {
      "text/html": [
       "<div>\n",
       "<style scoped>\n",
       "    .dataframe tbody tr th:only-of-type {\n",
       "        vertical-align: middle;\n",
       "    }\n",
       "\n",
       "    .dataframe tbody tr th {\n",
       "        vertical-align: top;\n",
       "    }\n",
       "\n",
       "    .dataframe thead th {\n",
       "        text-align: right;\n",
       "    }\n",
       "</style>\n",
       "<table border=\"1\" class=\"dataframe\">\n",
       "  <thead>\n",
       "    <tr style=\"text-align: right;\">\n",
       "      <th></th>\n",
       "      <th>buoy_id</th>\n",
       "    </tr>\n",
       "  </thead>\n",
       "  <tbody>\n",
       "    <tr>\n",
       "      <th>0</th>\n",
       "      <td>2</td>\n",
       "    </tr>\n",
       "  </tbody>\n",
       "</table>\n",
       "</div>"
      ],
      "text/plain": [
       "   buoy_id\n",
       "0        2"
      ]
     },
     "execution_count": 7,
     "metadata": {},
     "output_type": "execute_result"
    }
   ],
   "source": [
    "buoy_id"
   ]
  },
  {
   "cell_type": "code",
   "execution_count": 9,
   "id": "curious-alexandria",
   "metadata": {},
   "outputs": [
    {
     "data": {
      "text/plain": [
       "2"
      ]
     },
     "execution_count": 9,
     "metadata": {},
     "output_type": "execute_result"
    }
   ],
   "source": [
    "id = buoy_id['buoy_id'][0]\n",
    "id"
   ]
  },
  {
   "cell_type": "code",
   "execution_count": 10,
   "id": "structured-process",
   "metadata": {},
   "outputs": [],
   "source": [
    "conn = connect_database_remo('PRI')\n",
    "last_date_raw = check_last_date(conn, 'bmo_br', id)\n",
    "\n",
    "last_date_raw = last_date_raw[0][0]"
   ]
  },
  {
   "cell_type": "code",
   "execution_count": 11,
   "id": "homeless-candle",
   "metadata": {},
   "outputs": [],
   "source": [
    "conn = connect_database_remo('PRI')\n",
    "time_interval = 24*10000 # hours interval of data to be qualified\n",
    "bmo_general = get_data_table_db(conn, id, last_date_raw, 'bmo_triaxys_message', time_interval)\n",
    "bmo_general[['begin', 'date', 'time', 'serial', 'buoyid', 'lat', 'lon', 'number_of_bands', 'initial_frequency',\\\n",
    " 'frequency_spacing', 'mean_average_direction', 'spread_direction', 'values']] = bmo_general.triaxys_message.str.split(',',12, expand=True)\n",
    "\n",
    "bmo_general['date_time_2'] = bmo_general['date'].astype(str) + bmo_general['time']\n",
    "\n",
    "bmo_general['date_time_2'] = pd.to_datetime(bmo_general['date_time_2'], format='%Y%m%d%H%M%S')\n"
   ]
  },
  {
   "cell_type": "code",
   "execution_count": 12,
   "id": "third-university",
   "metadata": {},
   "outputs": [],
   "source": [
    "del bmo_general['begin']\n",
    "del bmo_general['serial']\n",
    "del bmo_general['buoyid']\n",
    "del bmo_general['lat']\n",
    "del bmo_general['lon']\n",
    "del bmo_general['date']\n",
    "del bmo_general['time']\n",
    "del bmo_general['triaxys_message']\n",
    "\n",
    "bmo_general = bmo_general.dropna()"
   ]
  },
  {
   "cell_type": "code",
   "execution_count": 13,
   "id": "featured-prompt",
   "metadata": {},
   "outputs": [
    {
     "data": {
      "text/html": [
       "<div>\n",
       "<style scoped>\n",
       "    .dataframe tbody tr th:only-of-type {\n",
       "        vertical-align: middle;\n",
       "    }\n",
       "\n",
       "    .dataframe tbody tr th {\n",
       "        vertical-align: top;\n",
       "    }\n",
       "\n",
       "    .dataframe thead th {\n",
       "        text-align: right;\n",
       "    }\n",
       "</style>\n",
       "<table border=\"1\" class=\"dataframe\">\n",
       "  <thead>\n",
       "    <tr style=\"text-align: right;\">\n",
       "      <th></th>\n",
       "      <th>buoy_id</th>\n",
       "      <th>id</th>\n",
       "      <th>date_time</th>\n",
       "      <th>number_of_bands</th>\n",
       "      <th>initial_frequency</th>\n",
       "      <th>frequency_spacing</th>\n",
       "      <th>mean_average_direction</th>\n",
       "      <th>spread_direction</th>\n",
       "      <th>values</th>\n",
       "      <th>date_time_2</th>\n",
       "    </tr>\n",
       "  </thead>\n",
       "  <tbody>\n",
       "    <tr>\n",
       "      <th>0</th>\n",
       "      <td>2</td>\n",
       "      <td>1</td>\n",
       "      <td>2020-12-11 12:04:07</td>\n",
       "      <td>76</td>\n",
       "      <td>.060</td>\n",
       "      <td>.005</td>\n",
       "      <td>134.60</td>\n",
       "      <td>52.34</td>\n",
       "      <td>.2508E+00,194.5,31.8,.7158E+00,196.3,26.5,.735...</td>\n",
       "      <td>2020-12-11 08:29:00</td>\n",
       "    </tr>\n",
       "    <tr>\n",
       "      <th>1</th>\n",
       "      <td>2</td>\n",
       "      <td>2</td>\n",
       "      <td>2020-12-11 14:03:32</td>\n",
       "      <td>66</td>\n",
       "      <td>.060</td>\n",
       "      <td>.005</td>\n",
       "      <td>116.95</td>\n",
       "      <td>47.80</td>\n",
       "      <td>.1864E+00,198.3,28.4,.8430E+00,200.2,23.2,.121...</td>\n",
       "      <td>2020-12-11 10:29:00</td>\n",
       "    </tr>\n",
       "    <tr>\n",
       "      <th>2</th>\n",
       "      <td>2</td>\n",
       "      <td>3</td>\n",
       "      <td>2020-12-11 15:04:28</td>\n",
       "      <td>70</td>\n",
       "      <td>.060</td>\n",
       "      <td>.005</td>\n",
       "      <td>129.12</td>\n",
       "      <td>48.82</td>\n",
       "      <td>.1950E+00,194.5,37.7,.7662E+00,196.0,31.3,.889...</td>\n",
       "      <td>2020-12-11 11:29:00</td>\n",
       "    </tr>\n",
       "    <tr>\n",
       "      <th>3</th>\n",
       "      <td>2</td>\n",
       "      <td>4</td>\n",
       "      <td>2020-12-11 16:03:57</td>\n",
       "      <td>81</td>\n",
       "      <td>.060</td>\n",
       "      <td>.005</td>\n",
       "      <td>118.28</td>\n",
       "      <td>50.83</td>\n",
       "      <td>.3065E+00,191.2,43.8,.5087E+00,192.7,36.0,.681...</td>\n",
       "      <td>2020-12-11 12:29:00</td>\n",
       "    </tr>\n",
       "    <tr>\n",
       "      <th>4</th>\n",
       "      <td>2</td>\n",
       "      <td>67</td>\n",
       "      <td>2020-12-16 08:02:05</td>\n",
       "      <td>65</td>\n",
       "      <td>.075</td>\n",
       "      <td>.005</td>\n",
       "      <td>80.33</td>\n",
       "      <td>46.08</td>\n",
       "      <td>.2774E+00,173.4,66.2,.2067E+00,186.4,61.9,.392...</td>\n",
       "      <td>2020-12-16 04:29:00</td>\n",
       "    </tr>\n",
       "  </tbody>\n",
       "</table>\n",
       "</div>"
      ],
      "text/plain": [
       "   buoy_id  id           date_time number_of_bands initial_frequency  \\\n",
       "0        2   1 2020-12-11 12:04:07              76              .060   \n",
       "1        2   2 2020-12-11 14:03:32              66              .060   \n",
       "2        2   3 2020-12-11 15:04:28              70              .060   \n",
       "3        2   4 2020-12-11 16:03:57              81              .060   \n",
       "4        2  67 2020-12-16 08:02:05              65              .075   \n",
       "\n",
       "  frequency_spacing mean_average_direction spread_direction  \\\n",
       "0              .005                 134.60            52.34   \n",
       "1              .005                 116.95            47.80   \n",
       "2              .005                 129.12            48.82   \n",
       "3              .005                 118.28            50.83   \n",
       "4              .005                  80.33            46.08   \n",
       "\n",
       "                                              values         date_time_2  \n",
       "0  .2508E+00,194.5,31.8,.7158E+00,196.3,26.5,.735... 2020-12-11 08:29:00  \n",
       "1  .1864E+00,198.3,28.4,.8430E+00,200.2,23.2,.121... 2020-12-11 10:29:00  \n",
       "2  .1950E+00,194.5,37.7,.7662E+00,196.0,31.3,.889... 2020-12-11 11:29:00  \n",
       "3  .3065E+00,191.2,43.8,.5087E+00,192.7,36.0,.681... 2020-12-11 12:29:00  \n",
       "4  .2774E+00,173.4,66.2,.2067E+00,186.4,61.9,.392... 2020-12-16 04:29:00  "
      ]
     },
     "execution_count": 13,
     "metadata": {},
     "output_type": "execute_result"
    }
   ],
   "source": [
    "bmo_general.head()"
   ]
  },
  {
   "cell_type": "code",
   "execution_count": 16,
   "id": "smaller-label",
   "metadata": {},
   "outputs": [
    {
     "name": "stderr",
     "output_type": "stream",
     "text": [
      "<ipython-input-16-92d3c3ea52c5>:1: FutureWarning: The default value of regex will change from True to False in a future version.\n",
      "  bmo_general['values'] = bmo_general['values'].str.replace('\\*\\d*.*', '').str.strip().str.split(',')\n"
     ]
    }
   ],
   "source": [
    "bmo_general['values'] = bmo_general['values'].str.replace('\\*\\d*.*', '').str.strip().str.split(',')\n",
    "bmo_general['number_of_bands'] = pd.to_numeric(bmo_general['number_of_bands'])\n",
    "bmo_general['initial_frequency'] = pd.to_numeric(bmo_general['initial_frequency'])\n",
    "bmo_general['frequency_spacing'] = pd.to_numeric(bmo_general['frequency_spacing'])\n",
    "bmo_general['mean_average_direction'] = pd.to_numeric(bmo_general['mean_average_direction'])\n",
    "bmo_general['spread_direction'] = pd.to_numeric(bmo_general['spread_direction'])"
   ]
  },
  {
   "cell_type": "code",
   "execution_count": 24,
   "id": "enabling-calcium",
   "metadata": {},
   "outputs": [],
   "source": [
    "spacing = []\n",
    "for index, row in bmo_general.iterrows():\n",
    "    spacing.append(np.round(np.linspace(row['initial_frequency'], \\\n",
    "        row['frequency_spacing']*(row['number_of_bands'] - 1)+row['initial_frequency'], \\\n",
    "        row['number_of_bands']), 3))"
   ]
  },
  {
   "cell_type": "code",
   "execution_count": 25,
   "id": "front-cement",
   "metadata": {},
   "outputs": [],
   "source": [
    "energy = []\n",
    "wvdir = []\n",
    "spread = []\n",
    "for index, row in bmo_general.iterrows():\n",
    "    e = []\n",
    "    w = []\n",
    "    s = []\n",
    "    choice = 'e'\n",
    "    for i in row['values']:\n",
    "        if choice == 'e':\n",
    "            try:\n",
    "                x = float(i)\n",
    "            except:\n",
    "                break\n",
    "            e.append(float(i))\n",
    "            choice = 'w'\n",
    "        elif choice == 'w':\n",
    "            try:\n",
    "                x = float(i)\n",
    "            except:\n",
    "                break\n",
    "            w.append(float(i))\n",
    "            choice = 's'\n",
    "        else:\n",
    "            try:\n",
    "                x = float(i)\n",
    "            except:\n",
    "                break\n",
    "            s.append(float(i))\n",
    "            choice = 'e'\n",
    "    energy.append(e)\n",
    "    wvdir.append(w)\n",
    "    spread.append(s)"
   ]
  },
  {
   "cell_type": "code",
   "execution_count": 26,
   "id": "drawn-third",
   "metadata": {},
   "outputs": [
    {
     "data": {
      "text/plain": [
       "(3505, 10)"
      ]
     },
     "execution_count": 26,
     "metadata": {},
     "output_type": "execute_result"
    }
   ],
   "source": [
    "bmo_general.shape"
   ]
  },
  {
   "cell_type": "code",
   "execution_count": 27,
   "id": "initial-pasta",
   "metadata": {},
   "outputs": [
    {
     "data": {
      "text/plain": [
       "3505"
      ]
     },
     "execution_count": 27,
     "metadata": {},
     "output_type": "execute_result"
    }
   ],
   "source": [
    "len(energy)"
   ]
  },
  {
   "cell_type": "code",
   "execution_count": 32,
   "id": "fancy-differential",
   "metadata": {},
   "outputs": [],
   "source": [
    "date_time = []\n",
    "spacing_1 = []\n",
    "energy_1 = []\n",
    "wvdir_1 = []\n",
    "spread_1 = []\n",
    "mean_average_direction = []\n",
    "spread_direction = []\n",
    "buoy_id = []\n",
    "data_id = []\n",
    "for idx, value in enumerate(spacing):\n",
    "    if len(value) == len(energy[idx]) and len(value) == len(wvdir[idx]) and len(value) == len(spread[idx]):\n",
    "        for i in range(len(value)):\n",
    "            buoy_id.append(bmo_general.iloc[idx]['buoy_id'])\n",
    "            data_id.append(bmo_general.iloc[idx]['id'])\n",
    "            date_time.append(bmo_general.iloc[idx]['date_time'])\n",
    "            mean_average_direction.append(bmo_general.iloc[idx]['mean_average_direction'])\n",
    "            spread_direction.append(bmo_general.iloc[idx]['spread_direction'])\n",
    "            spacing_1.append(value[i])\n",
    "            energy_1.append(energy[idx][i])\n",
    "            wvdir_1.append(wvdir[idx][i])\n",
    "            spread_1.append(spread[idx][i])"
   ]
  },
  {
   "cell_type": "code",
   "execution_count": 34,
   "id": "auburn-diagnosis",
   "metadata": {},
   "outputs": [],
   "source": [
    "total_df = pd.DataFrame(np.array([buoy_id, data_id, date_time, mean_average_direction, spread_direction, spacing_1, energy_1, wvdir_1, spread_1]).T, \\\n",
    "                        columns=['buoy_id', 'data_id', 'date_time', 'mean_average_direction', 'spread_direction', 'period', 'energy', 'wvdir', 'spread'])\n",
    "total_df.sort_values('date_time', inplace=True)\n",
    "total_df['period'] = np.round((1/total_df['period'].astype(float)), 2)\n",
    "total_df['wvdir'] = total_df['wvdir'].astype(float)\n",
    "total_df['spread'] = total_df['spread'].astype(float)\n",
    "total_df['mean_average_direction'] = total_df['mean_average_direction'].astype(float)\n",
    "total_df['spread_direction'] = total_df['spread_direction'].astype(float)"
   ]
  },
  {
   "cell_type": "code",
   "execution_count": 41,
   "id": "subjective-equity",
   "metadata": {},
   "outputs": [],
   "source": [
    "total_df['energy'] = total_df['energy'].astype(float)\n",
    "total_df['buoy_id'] = total_df['buoy_id'].astype(int)\n",
    "total_df['data_id'] = total_df['data_id'].astype(int)"
   ]
  },
  {
   "cell_type": "code",
   "execution_count": 38,
   "id": "interstate-strengthening",
   "metadata": {},
   "outputs": [
    {
     "name": "stdout",
     "output_type": "stream",
     "text": [
      "<class 'pandas.core.frame.DataFrame'>\n",
      "Int64Index: 150716 entries, 0 to 150715\n",
      "Data columns (total 9 columns):\n",
      " #   Column                  Non-Null Count   Dtype         \n",
      "---  ------                  --------------   -----         \n",
      " 0   buoy_id                 150716 non-null  object        \n",
      " 1   data_id                 150716 non-null  object        \n",
      " 2   date_time               150716 non-null  datetime64[ns]\n",
      " 3   mean_average_direction  150716 non-null  float64       \n",
      " 4   spread_direction        150716 non-null  float64       \n",
      " 5   period                  150716 non-null  float64       \n",
      " 6   energy                  150716 non-null  object        \n",
      " 7   wvdir                   150716 non-null  float64       \n",
      " 8   spread                  150716 non-null  float64       \n",
      "dtypes: datetime64[ns](1), float64(5), object(3)\n",
      "memory usage: 11.5+ MB\n"
     ]
    }
   ],
   "source": [
    "total_df.info()"
   ]
  },
  {
   "cell_type": "code",
   "execution_count": 40,
   "id": "scientific-sector",
   "metadata": {},
   "outputs": [
    {
     "name": "stdout",
     "output_type": "stream",
     "text": [
      "inserted new data\n"
     ]
    }
   ],
   "source": [
    "insert_triaxys_data(total_df)"
   ]
  },
  {
   "cell_type": "code",
   "execution_count": null,
   "id": "specialized-shadow",
   "metadata": {},
   "outputs": [],
   "source": []
  }
 ],
 "metadata": {
  "kernelspec": {
   "display_name": "Python 3",
   "language": "python",
   "name": "python3"
  },
  "language_info": {
   "codemirror_mode": {
    "name": "ipython",
    "version": 3
   },
   "file_extension": ".py",
   "mimetype": "text/x-python",
   "name": "python",
   "nbconvert_exporter": "python",
   "pygments_lexer": "ipython3",
   "version": "3.8.6"
  }
 },
 "nbformat": 4,
 "nbformat_minor": 5
}
