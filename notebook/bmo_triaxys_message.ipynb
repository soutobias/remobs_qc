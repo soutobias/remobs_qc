{
 "cells": [
  {
   "cell_type": "markdown",
   "id": "polyphonic-oasis",
   "metadata": {},
   "source": [
    "# TEST BMO TRIAXYS MESSAGE"
   ]
  },
  {
   "cell_type": "code",
   "execution_count": 3,
   "id": "inner-replica",
   "metadata": {},
   "outputs": [],
   "source": [
    "import sys\n",
    "import os\n",
    "home_path = os.environ['HOME']\n",
    "abs_dir = os.path.dirname(os.getcwd())\n",
    "cwd_path = os.path.join(abs_dir, 'boias', 'bmo_br', 'real_time')\n",
    "bd_path = os.path.join(abs_dir, 'boias', 'bmo_br', 'bd')"
   ]
  },
  {
   "cell_type": "code",
   "execution_count": 4,
   "id": "initial-problem",
   "metadata": {},
   "outputs": [],
   "source": [
    "sys.path.append(cwd_path)\n",
    "sys.path.append(bd_path)\n",
    "\n",
    "\n",
    "from bmo_database import *\n",
    "from bmo_adjust_data import *\n",
    "import bmo_quality_control as bqc\n",
    "\n",
    "import pandas as pd"
   ]
  },
  {
   "cell_type": "code",
   "execution_count": 5,
   "id": "colonial-crisis",
   "metadata": {},
   "outputs": [],
   "source": [
    "conn = connect_database_remo('PRI')\n",
    "buoy_id = bmo_on(conn)"
   ]
  },
  {
   "cell_type": "code",
   "execution_count": 9,
   "id": "regulation-chancellor",
   "metadata": {},
   "outputs": [
    {
     "data": {
      "text/plain": [
       "2"
      ]
     },
     "execution_count": 9,
     "metadata": {},
     "output_type": "execute_result"
    }
   ],
   "source": [
    "id = buoy_id['buoy_id'][0]\n",
    "id"
   ]
  },
  {
   "cell_type": "code",
   "execution_count": 12,
   "id": "mexican-vaccine",
   "metadata": {},
   "outputs": [
    {
     "data": {
      "text/plain": [
       "datetime.datetime(2021, 4, 21, 11, 0)"
      ]
     },
     "execution_count": 12,
     "metadata": {},
     "output_type": "execute_result"
    }
   ],
   "source": [
    "conn = connect_database_remo('PRI')\n",
    "last_date_raw = check_last_date(conn, 'bmo_br', id)\n",
    "last_date_raw = last_date_raw[0][0]\n",
    "last_date_raw"
   ]
  },
  {
   "cell_type": "code",
   "execution_count": 13,
   "id": "recorded-consistency",
   "metadata": {},
   "outputs": [],
   "source": [
    "time_interval = 24*10000 # hours interval of data to be qualified\n",
    "bmo_general = get_data_table_db(conn, id, last_date_raw, 'bmo_triaxys_message', time_interval)"
   ]
  },
  {
   "cell_type": "code",
   "execution_count": 16,
   "id": "least-religious",
   "metadata": {},
   "outputs": [
    {
     "data": {
      "text/html": [
       "<div>\n",
       "<style scoped>\n",
       "    .dataframe tbody tr th:only-of-type {\n",
       "        vertical-align: middle;\n",
       "    }\n",
       "\n",
       "    .dataframe tbody tr th {\n",
       "        vertical-align: top;\n",
       "    }\n",
       "\n",
       "    .dataframe thead th {\n",
       "        text-align: right;\n",
       "    }\n",
       "</style>\n",
       "<table border=\"1\" class=\"dataframe\">\n",
       "  <thead>\n",
       "    <tr style=\"text-align: right;\">\n",
       "      <th></th>\n",
       "      <th>buoy_id</th>\n",
       "      <th>id</th>\n",
       "      <th>date_time</th>\n",
       "      <th>triaxys_message</th>\n",
       "      <th>begin</th>\n",
       "      <th>date</th>\n",
       "      <th>time</th>\n",
       "      <th>serial</th>\n",
       "      <th>buoyid</th>\n",
       "      <th>lat</th>\n",
       "      <th>lon</th>\n",
       "      <th>number_of_bands</th>\n",
       "      <th>initial_frequency</th>\n",
       "      <th>frequency_spacing</th>\n",
       "      <th>mean_average_direction</th>\n",
       "      <th>spread_direction</th>\n",
       "      <th>values</th>\n",
       "    </tr>\n",
       "  </thead>\n",
       "  <tbody>\n",
       "    <tr>\n",
       "      <th>0</th>\n",
       "      <td>2</td>\n",
       "      <td>1</td>\n",
       "      <td>2020-12-11 12:04:07</td>\n",
       "      <td>incio[?MNM$TSPMA,20201211,082900,03460,TAB0000...</td>\n",
       "      <td>incio[?MNM$TSPMA</td>\n",
       "      <td>20201211</td>\n",
       "      <td>082900</td>\n",
       "      <td>03460</td>\n",
       "      <td>TAB00000</td>\n",
       "      <td></td>\n",
       "      <td></td>\n",
       "      <td>76</td>\n",
       "      <td>.060</td>\n",
       "      <td>.005</td>\n",
       "      <td>134.60</td>\n",
       "      <td>52.34</td>\n",
       "      <td>.2508E+00,194.5,31.8,.7158E+00,196.3,26.5,.735...</td>\n",
       "    </tr>\n",
       "    <tr>\n",
       "      <th>1</th>\n",
       "      <td>2</td>\n",
       "      <td>2</td>\n",
       "      <td>2020-12-11 14:03:32</td>\n",
       "      <td>incio[?MNM$TSPMA,20201211,102900,03460,TAB0000...</td>\n",
       "      <td>incio[?MNM$TSPMA</td>\n",
       "      <td>20201211</td>\n",
       "      <td>102900</td>\n",
       "      <td>03460</td>\n",
       "      <td>TAB00000</td>\n",
       "      <td></td>\n",
       "      <td></td>\n",
       "      <td>66</td>\n",
       "      <td>.060</td>\n",
       "      <td>.005</td>\n",
       "      <td>116.95</td>\n",
       "      <td>47.80</td>\n",
       "      <td>.1864E+00,198.3,28.4,.8430E+00,200.2,23.2,.121...</td>\n",
       "    </tr>\n",
       "    <tr>\n",
       "      <th>2</th>\n",
       "      <td>2</td>\n",
       "      <td>3</td>\n",
       "      <td>2020-12-11 15:04:28</td>\n",
       "      <td>incio[?MNM$TSPMA,20201211,112900,03460,TAB0000...</td>\n",
       "      <td>incio[?MNM$TSPMA</td>\n",
       "      <td>20201211</td>\n",
       "      <td>112900</td>\n",
       "      <td>03460</td>\n",
       "      <td>TAB00000</td>\n",
       "      <td></td>\n",
       "      <td></td>\n",
       "      <td>70</td>\n",
       "      <td>.060</td>\n",
       "      <td>.005</td>\n",
       "      <td>129.12</td>\n",
       "      <td>48.82</td>\n",
       "      <td>.1950E+00,194.5,37.7,.7662E+00,196.0,31.3,.889...</td>\n",
       "    </tr>\n",
       "    <tr>\n",
       "      <th>3</th>\n",
       "      <td>2</td>\n",
       "      <td>4</td>\n",
       "      <td>2020-12-11 16:03:57</td>\n",
       "      <td>incio[?MNM$TSPMA,20201211,122900,03460,TAB0000...</td>\n",
       "      <td>incio[?MNM$TSPMA</td>\n",
       "      <td>20201211</td>\n",
       "      <td>122900</td>\n",
       "      <td>03460</td>\n",
       "      <td>TAB00000</td>\n",
       "      <td></td>\n",
       "      <td></td>\n",
       "      <td>81</td>\n",
       "      <td>.060</td>\n",
       "      <td>.005</td>\n",
       "      <td>118.28</td>\n",
       "      <td>50.83</td>\n",
       "      <td>.3065E+00,191.2,43.8,.5087E+00,192.7,36.0,.681...</td>\n",
       "    </tr>\n",
       "    <tr>\n",
       "      <th>4</th>\n",
       "      <td>2</td>\n",
       "      <td>67</td>\n",
       "      <td>2020-12-16 08:02:05</td>\n",
       "      <td>incio[?MNM$TSPMA,20201216,042900,03460,TAB0000...</td>\n",
       "      <td>incio[?MNM$TSPMA</td>\n",
       "      <td>20201216</td>\n",
       "      <td>042900</td>\n",
       "      <td>03460</td>\n",
       "      <td>TAB00000</td>\n",
       "      <td></td>\n",
       "      <td></td>\n",
       "      <td>65</td>\n",
       "      <td>.075</td>\n",
       "      <td>.005</td>\n",
       "      <td>80.33</td>\n",
       "      <td>46.08</td>\n",
       "      <td>.2774E+00,173.4,66.2,.2067E+00,186.4,61.9,.392...</td>\n",
       "    </tr>\n",
       "  </tbody>\n",
       "</table>\n",
       "</div>"
      ],
      "text/plain": [
       "   buoy_id  id           date_time  \\\n",
       "0        2   1 2020-12-11 12:04:07   \n",
       "1        2   2 2020-12-11 14:03:32   \n",
       "2        2   3 2020-12-11 15:04:28   \n",
       "3        2   4 2020-12-11 16:03:57   \n",
       "4        2  67 2020-12-16 08:02:05   \n",
       "\n",
       "                                     triaxys_message             begin  \\\n",
       "0  incio[?MNM$TSPMA,20201211,082900,03460,TAB0000...  incio[?MNM$TSPMA   \n",
       "1  incio[?MNM$TSPMA,20201211,102900,03460,TAB0000...  incio[?MNM$TSPMA   \n",
       "2  incio[?MNM$TSPMA,20201211,112900,03460,TAB0000...  incio[?MNM$TSPMA   \n",
       "3  incio[?MNM$TSPMA,20201211,122900,03460,TAB0000...  incio[?MNM$TSPMA   \n",
       "4  incio[?MNM$TSPMA,20201216,042900,03460,TAB0000...  incio[?MNM$TSPMA   \n",
       "\n",
       "       date    time serial    buoyid lat lon number_of_bands  \\\n",
       "0  20201211  082900  03460  TAB00000                      76   \n",
       "1  20201211  102900  03460  TAB00000                      66   \n",
       "2  20201211  112900  03460  TAB00000                      70   \n",
       "3  20201211  122900  03460  TAB00000                      81   \n",
       "4  20201216  042900  03460  TAB00000                      65   \n",
       "\n",
       "  initial_frequency frequency_spacing mean_average_direction spread_direction  \\\n",
       "0              .060              .005                 134.60            52.34   \n",
       "1              .060              .005                 116.95            47.80   \n",
       "2              .060              .005                 129.12            48.82   \n",
       "3              .060              .005                 118.28            50.83   \n",
       "4              .075              .005                  80.33            46.08   \n",
       "\n",
       "                                              values  \n",
       "0  .2508E+00,194.5,31.8,.7158E+00,196.3,26.5,.735...  \n",
       "1  .1864E+00,198.3,28.4,.8430E+00,200.2,23.2,.121...  \n",
       "2  .1950E+00,194.5,37.7,.7662E+00,196.0,31.3,.889...  \n",
       "3  .3065E+00,191.2,43.8,.5087E+00,192.7,36.0,.681...  \n",
       "4  .2774E+00,173.4,66.2,.2067E+00,186.4,61.9,.392...  "
      ]
     },
     "execution_count": 16,
     "metadata": {},
     "output_type": "execute_result"
    }
   ],
   "source": [
    "bmo_general[['begin', 'date', 'time', 'serial', 'buoyid', 'lat', 'lon', 'number_of_bands', 'initial_frequency',\\\n",
    " 'frequency_spacing', 'mean_average_direction', 'spread_direction', 'values']] = bmo_general.triaxys_message.str.split(',',12, expand=True)\n",
    "bmo_general.head()"
   ]
  },
  {
   "cell_type": "code",
   "execution_count": 18,
   "id": "successful-identity",
   "metadata": {},
   "outputs": [
    {
     "data": {
      "text/plain": [
       "0   2020-12-11 08:29:00\n",
       "1   2020-12-11 10:29:00\n",
       "2   2020-12-11 11:29:00\n",
       "3   2020-12-11 12:29:00\n",
       "4   2020-12-16 04:29:00\n",
       "Name: date_time_2, dtype: datetime64[ns]"
      ]
     },
     "execution_count": 18,
     "metadata": {},
     "output_type": "execute_result"
    }
   ],
   "source": [
    "bmo_general['date_time_2'] = bmo_general['date'].astype(str) + bmo_general['time']\n",
    "bmo_general['date_time_2'] = pd.to_datetime(bmo_general['date_time_2'], format='%Y%m%d%H%M%S')\n",
    "bmo_general['date_time_2'].head()"
   ]
  },
  {
   "cell_type": "code",
   "execution_count": 19,
   "id": "historic-cholesterol",
   "metadata": {},
   "outputs": [],
   "source": [
    "del bmo_general['begin']\n",
    "del bmo_general['serial']\n",
    "del bmo_general['buoyid']\n",
    "del bmo_general['lat']\n",
    "del bmo_general['lon']\n",
    "del bmo_general['date']\n",
    "del bmo_general['time']\n",
    "del bmo_general['triaxys_message']"
   ]
  },
  {
   "cell_type": "code",
   "execution_count": 21,
   "id": "english-budapest",
   "metadata": {},
   "outputs": [
    {
     "data": {
      "text/html": [
       "<div>\n",
       "<style scoped>\n",
       "    .dataframe tbody tr th:only-of-type {\n",
       "        vertical-align: middle;\n",
       "    }\n",
       "\n",
       "    .dataframe tbody tr th {\n",
       "        vertical-align: top;\n",
       "    }\n",
       "\n",
       "    .dataframe thead th {\n",
       "        text-align: right;\n",
       "    }\n",
       "</style>\n",
       "<table border=\"1\" class=\"dataframe\">\n",
       "  <thead>\n",
       "    <tr style=\"text-align: right;\">\n",
       "      <th></th>\n",
       "      <th>buoy_id</th>\n",
       "      <th>id</th>\n",
       "      <th>date_time</th>\n",
       "      <th>number_of_bands</th>\n",
       "      <th>initial_frequency</th>\n",
       "      <th>frequency_spacing</th>\n",
       "      <th>mean_average_direction</th>\n",
       "      <th>spread_direction</th>\n",
       "      <th>values</th>\n",
       "      <th>date_time_2</th>\n",
       "    </tr>\n",
       "  </thead>\n",
       "  <tbody>\n",
       "    <tr>\n",
       "      <th>0</th>\n",
       "      <td>2</td>\n",
       "      <td>1</td>\n",
       "      <td>2020-12-11 12:04:07</td>\n",
       "      <td>76</td>\n",
       "      <td>.060</td>\n",
       "      <td>.005</td>\n",
       "      <td>134.60</td>\n",
       "      <td>52.34</td>\n",
       "      <td>.2508E+00,194.5,31.8,.7158E+00,196.3,26.5,.735...</td>\n",
       "      <td>2020-12-11 08:29:00</td>\n",
       "    </tr>\n",
       "    <tr>\n",
       "      <th>1</th>\n",
       "      <td>2</td>\n",
       "      <td>2</td>\n",
       "      <td>2020-12-11 14:03:32</td>\n",
       "      <td>66</td>\n",
       "      <td>.060</td>\n",
       "      <td>.005</td>\n",
       "      <td>116.95</td>\n",
       "      <td>47.80</td>\n",
       "      <td>.1864E+00,198.3,28.4,.8430E+00,200.2,23.2,.121...</td>\n",
       "      <td>2020-12-11 10:29:00</td>\n",
       "    </tr>\n",
       "    <tr>\n",
       "      <th>2</th>\n",
       "      <td>2</td>\n",
       "      <td>3</td>\n",
       "      <td>2020-12-11 15:04:28</td>\n",
       "      <td>70</td>\n",
       "      <td>.060</td>\n",
       "      <td>.005</td>\n",
       "      <td>129.12</td>\n",
       "      <td>48.82</td>\n",
       "      <td>.1950E+00,194.5,37.7,.7662E+00,196.0,31.3,.889...</td>\n",
       "      <td>2020-12-11 11:29:00</td>\n",
       "    </tr>\n",
       "    <tr>\n",
       "      <th>3</th>\n",
       "      <td>2</td>\n",
       "      <td>4</td>\n",
       "      <td>2020-12-11 16:03:57</td>\n",
       "      <td>81</td>\n",
       "      <td>.060</td>\n",
       "      <td>.005</td>\n",
       "      <td>118.28</td>\n",
       "      <td>50.83</td>\n",
       "      <td>.3065E+00,191.2,43.8,.5087E+00,192.7,36.0,.681...</td>\n",
       "      <td>2020-12-11 12:29:00</td>\n",
       "    </tr>\n",
       "    <tr>\n",
       "      <th>4</th>\n",
       "      <td>2</td>\n",
       "      <td>67</td>\n",
       "      <td>2020-12-16 08:02:05</td>\n",
       "      <td>65</td>\n",
       "      <td>.075</td>\n",
       "      <td>.005</td>\n",
       "      <td>80.33</td>\n",
       "      <td>46.08</td>\n",
       "      <td>.2774E+00,173.4,66.2,.2067E+00,186.4,61.9,.392...</td>\n",
       "      <td>2020-12-16 04:29:00</td>\n",
       "    </tr>\n",
       "  </tbody>\n",
       "</table>\n",
       "</div>"
      ],
      "text/plain": [
       "   buoy_id  id           date_time number_of_bands initial_frequency  \\\n",
       "0        2   1 2020-12-11 12:04:07              76              .060   \n",
       "1        2   2 2020-12-11 14:03:32              66              .060   \n",
       "2        2   3 2020-12-11 15:04:28              70              .060   \n",
       "3        2   4 2020-12-11 16:03:57              81              .060   \n",
       "4        2  67 2020-12-16 08:02:05              65              .075   \n",
       "\n",
       "  frequency_spacing mean_average_direction spread_direction  \\\n",
       "0              .005                 134.60            52.34   \n",
       "1              .005                 116.95            47.80   \n",
       "2              .005                 129.12            48.82   \n",
       "3              .005                 118.28            50.83   \n",
       "4              .005                  80.33            46.08   \n",
       "\n",
       "                                              values         date_time_2  \n",
       "0  .2508E+00,194.5,31.8,.7158E+00,196.3,26.5,.735... 2020-12-11 08:29:00  \n",
       "1  .1864E+00,198.3,28.4,.8430E+00,200.2,23.2,.121... 2020-12-11 10:29:00  \n",
       "2  .1950E+00,194.5,37.7,.7662E+00,196.0,31.3,.889... 2020-12-11 11:29:00  \n",
       "3  .3065E+00,191.2,43.8,.5087E+00,192.7,36.0,.681... 2020-12-11 12:29:00  \n",
       "4  .2774E+00,173.4,66.2,.2067E+00,186.4,61.9,.392... 2020-12-16 04:29:00  "
      ]
     },
     "execution_count": 21,
     "metadata": {},
     "output_type": "execute_result"
    }
   ],
   "source": [
    "bmo_general.head()"
   ]
  },
  {
   "cell_type": "code",
   "execution_count": 22,
   "id": "invisible-applicant",
   "metadata": {},
   "outputs": [],
   "source": [
    "conn = connect_database_remo('PRI')\n",
    "delete_triaxys_old_data(min(bmo_general.date_time), id, conn)"
   ]
  },
  {
   "cell_type": "code",
   "execution_count": 28,
   "id": "complimentary-exchange",
   "metadata": {},
   "outputs": [],
   "source": [
    "bmo_general = bmo_general.dropna()"
   ]
  },
  {
   "cell_type": "code",
   "execution_count": 29,
   "id": "sorted-lawrence",
   "metadata": {},
   "outputs": [
    {
     "name": "stdout",
     "output_type": "stream",
     "text": [
      "inserted new data\n"
     ]
    }
   ],
   "source": [
    "insert_triaxys_data(bmo_general)"
   ]
  },
  {
   "cell_type": "code",
   "execution_count": null,
   "id": "outer-framing",
   "metadata": {},
   "outputs": [],
   "source": []
  }
 ],
 "metadata": {
  "kernelspec": {
   "display_name": "Python 3",
   "language": "python",
   "name": "python3"
  },
  "language_info": {
   "codemirror_mode": {
    "name": "ipython",
    "version": 3
   },
   "file_extension": ".py",
   "mimetype": "text/x-python",
   "name": "python",
   "nbconvert_exporter": "python",
   "pygments_lexer": "ipython3",
   "version": "3.8.6"
  }
 },
 "nbformat": 4,
 "nbformat_minor": 5
}
