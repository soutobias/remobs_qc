{
 "cells": [
  {
   "cell_type": "markdown",
   "id": "christian-fairy",
   "metadata": {},
   "source": [
    "# QUALITY CONTROL OF ADCP DATA"
   ]
  },
  {
   "cell_type": "code",
   "execution_count": 1,
   "id": "prospective-central",
   "metadata": {},
   "outputs": [
    {
     "name": "stdout",
     "output_type": "stream",
     "text": [
      "/home/soutobias/code/soutobias/soutobias_codes/remobs_qc/boias/bmo_br/bd\n"
     ]
    }
   ],
   "source": [
    "%load_ext autoreload\n",
    "%autoreload 2\n",
    "import sys\n",
    "import os\n",
    "\n",
    "home_path = os.environ['HOME']\n",
    "abs_dir = os.path.dirname(os.getcwd())\n",
    "cwd_path = os.path.join(abs_dir, 'boias', 'bmo_br', 'real_time')\n",
    "bd_path = os.path.join(abs_dir, 'boias', 'bmo_br', 'bd')\n",
    "\n",
    "print(bd_path)\n",
    "\n",
    "sys.path.append(cwd_path)\n",
    "sys.path.append(bd_path)\n",
    "\n",
    "from bmo_database import *\n",
    "from bmo_adjust_data import *\n",
    "import bmo_quality_control as bqc\n",
    "\n",
    "import pandas as pd\n",
    "\n"
   ]
  },
  {
   "cell_type": "code",
   "execution_count": 2,
   "id": "hybrid-surname",
   "metadata": {},
   "outputs": [],
   "source": [
    "conn = connect_database_remo('PRI')\n",
    "\n",
    "buoy_id = bmo_on(conn)"
   ]
  },
  {
   "cell_type": "code",
   "execution_count": 3,
   "id": "honey-financing",
   "metadata": {},
   "outputs": [
    {
     "data": {
      "text/plain": [
       "2"
      ]
     },
     "execution_count": 3,
     "metadata": {},
     "output_type": "execute_result"
    }
   ],
   "source": [
    "id = buoy_id.iloc[0][0]\n",
    "id"
   ]
  },
  {
   "cell_type": "code",
   "execution_count": 4,
   "id": "mechanical-expression",
   "metadata": {},
   "outputs": [
    {
     "data": {
      "text/plain": [
       "datetime.datetime(2021, 4, 18, 23, 0)"
      ]
     },
     "execution_count": 4,
     "metadata": {},
     "output_type": "execute_result"
    }
   ],
   "source": [
    "conn = connect_database_remo('PRI')\n",
    "\n",
    "last_date_raw = check_last_date(conn, 'bmo_br_current', id)\n",
    "\n",
    "last_date_raw = last_date_raw[0][0]\n",
    "last_date_raw"
   ]
  },
  {
   "cell_type": "code",
   "execution_count": 5,
   "id": "boring-carpet",
   "metadata": {},
   "outputs": [],
   "source": [
    "conn = connect_database_remo('PRI')\n",
    "bmo_general = get_data_table_db(conn, id, last_date_raw, 'bmo_br_current','ALL')\n",
    "bmo_general.set_index('date_time', inplace = True)\n"
   ]
  },
  {
   "cell_type": "code",
   "execution_count": 6,
   "id": "rotary-interim",
   "metadata": {},
   "outputs": [
    {
     "name": "stdout",
     "output_type": "stream",
     "text": [
      "Qualifying General data...\n"
     ]
    },
    {
     "name": "stderr",
     "output_type": "stream",
     "text": [
      "/home/soutobias/.pyenv/versions/3.8.6/envs/lewagon/lib/python3.8/site-packages/pandas/core/indexing.py:1676: SettingWithCopyWarning: \n",
      "A value is trying to be set on a copy of a slice from a DataFrame.\n",
      "Try using .loc[row_indexer,col_indexer] = value instead\n",
      "\n",
      "See the caveats in the documentation: https://pandas.pydata.org/pandas-docs/stable/user_guide/indexing.html#returning-a-view-versus-a-copy\n",
      "  self._setitem_single_column(ilocs[0], value, pi)\n"
     ]
    },
    {
     "name": "stdout",
     "output_type": "stream",
     "text": [
      "No range_climate_limit for cdir1\n"
     ]
    },
    {
     "name": "stderr",
     "output_type": "stream",
     "text": [
      "/home/soutobias/.pyenv/versions/3.8.6/envs/lewagon/lib/python3.8/site-packages/pandas/core/indexing.py:1676: SettingWithCopyWarning: \n",
      "A value is trying to be set on a copy of a slice from a DataFrame.\n",
      "Try using .loc[row_indexer,col_indexer] = value instead\n",
      "\n",
      "See the caveats in the documentation: https://pandas.pydata.org/pandas-docs/stable/user_guide/indexing.html#returning-a-view-versus-a-copy\n",
      "  self._setitem_single_column(ilocs[0], value, pi)\n"
     ]
    },
    {
     "name": "stdout",
     "output_type": "stream",
     "text": [
      "No range_climate_limit for cdir2\n"
     ]
    },
    {
     "name": "stderr",
     "output_type": "stream",
     "text": [
      "/home/soutobias/.pyenv/versions/3.8.6/envs/lewagon/lib/python3.8/site-packages/pandas/core/indexing.py:1676: SettingWithCopyWarning: \n",
      "A value is trying to be set on a copy of a slice from a DataFrame.\n",
      "Try using .loc[row_indexer,col_indexer] = value instead\n",
      "\n",
      "See the caveats in the documentation: https://pandas.pydata.org/pandas-docs/stable/user_guide/indexing.html#returning-a-view-versus-a-copy\n",
      "  self._setitem_single_column(ilocs[0], value, pi)\n"
     ]
    },
    {
     "name": "stdout",
     "output_type": "stream",
     "text": [
      "No range_climate_limit for cdir3\n"
     ]
    },
    {
     "name": "stderr",
     "output_type": "stream",
     "text": [
      "/home/soutobias/.pyenv/versions/3.8.6/envs/lewagon/lib/python3.8/site-packages/pandas/core/indexing.py:1676: SettingWithCopyWarning: \n",
      "A value is trying to be set on a copy of a slice from a DataFrame.\n",
      "Try using .loc[row_indexer,col_indexer] = value instead\n",
      "\n",
      "See the caveats in the documentation: https://pandas.pydata.org/pandas-docs/stable/user_guide/indexing.html#returning-a-view-versus-a-copy\n",
      "  self._setitem_single_column(ilocs[0], value, pi)\n"
     ]
    },
    {
     "name": "stdout",
     "output_type": "stream",
     "text": [
      "No range_climate_limit for cdir4\n"
     ]
    },
    {
     "name": "stderr",
     "output_type": "stream",
     "text": [
      "/home/soutobias/.pyenv/versions/3.8.6/envs/lewagon/lib/python3.8/site-packages/pandas/core/indexing.py:1676: SettingWithCopyWarning: \n",
      "A value is trying to be set on a copy of a slice from a DataFrame.\n",
      "Try using .loc[row_indexer,col_indexer] = value instead\n",
      "\n",
      "See the caveats in the documentation: https://pandas.pydata.org/pandas-docs/stable/user_guide/indexing.html#returning-a-view-versus-a-copy\n",
      "  self._setitem_single_column(ilocs[0], value, pi)\n"
     ]
    },
    {
     "name": "stdout",
     "output_type": "stream",
     "text": [
      "No range_climate_limit for cdir5\n"
     ]
    },
    {
     "name": "stderr",
     "output_type": "stream",
     "text": [
      "/home/soutobias/.pyenv/versions/3.8.6/envs/lewagon/lib/python3.8/site-packages/pandas/core/indexing.py:1676: SettingWithCopyWarning: \n",
      "A value is trying to be set on a copy of a slice from a DataFrame.\n",
      "Try using .loc[row_indexer,col_indexer] = value instead\n",
      "\n",
      "See the caveats in the documentation: https://pandas.pydata.org/pandas-docs/stable/user_guide/indexing.html#returning-a-view-versus-a-copy\n",
      "  self._setitem_single_column(ilocs[0], value, pi)\n"
     ]
    },
    {
     "name": "stdout",
     "output_type": "stream",
     "text": [
      "No range_climate_limit for cdir6\n"
     ]
    },
    {
     "name": "stderr",
     "output_type": "stream",
     "text": [
      "/home/soutobias/.pyenv/versions/3.8.6/envs/lewagon/lib/python3.8/site-packages/pandas/core/indexing.py:1676: SettingWithCopyWarning: \n",
      "A value is trying to be set on a copy of a slice from a DataFrame.\n",
      "Try using .loc[row_indexer,col_indexer] = value instead\n",
      "\n",
      "See the caveats in the documentation: https://pandas.pydata.org/pandas-docs/stable/user_guide/indexing.html#returning-a-view-versus-a-copy\n",
      "  self._setitem_single_column(ilocs[0], value, pi)\n"
     ]
    },
    {
     "name": "stdout",
     "output_type": "stream",
     "text": [
      "No range_climate_limit for cdir7\n"
     ]
    },
    {
     "name": "stderr",
     "output_type": "stream",
     "text": [
      "/home/soutobias/.pyenv/versions/3.8.6/envs/lewagon/lib/python3.8/site-packages/pandas/core/indexing.py:1676: SettingWithCopyWarning: \n",
      "A value is trying to be set on a copy of a slice from a DataFrame.\n",
      "Try using .loc[row_indexer,col_indexer] = value instead\n",
      "\n",
      "See the caveats in the documentation: https://pandas.pydata.org/pandas-docs/stable/user_guide/indexing.html#returning-a-view-versus-a-copy\n",
      "  self._setitem_single_column(ilocs[0], value, pi)\n"
     ]
    },
    {
     "name": "stdout",
     "output_type": "stream",
     "text": [
      "No range_climate_limit for cdir8\n"
     ]
    },
    {
     "name": "stderr",
     "output_type": "stream",
     "text": [
      "/home/soutobias/.pyenv/versions/3.8.6/envs/lewagon/lib/python3.8/site-packages/pandas/core/indexing.py:1676: SettingWithCopyWarning: \n",
      "A value is trying to be set on a copy of a slice from a DataFrame.\n",
      "Try using .loc[row_indexer,col_indexer] = value instead\n",
      "\n",
      "See the caveats in the documentation: https://pandas.pydata.org/pandas-docs/stable/user_guide/indexing.html#returning-a-view-versus-a-copy\n",
      "  self._setitem_single_column(ilocs[0], value, pi)\n"
     ]
    },
    {
     "name": "stdout",
     "output_type": "stream",
     "text": [
      "No range_climate_limit for cdir9\n"
     ]
    },
    {
     "name": "stderr",
     "output_type": "stream",
     "text": [
      "/home/soutobias/.pyenv/versions/3.8.6/envs/lewagon/lib/python3.8/site-packages/pandas/core/indexing.py:1676: SettingWithCopyWarning: \n",
      "A value is trying to be set on a copy of a slice from a DataFrame.\n",
      "Try using .loc[row_indexer,col_indexer] = value instead\n",
      "\n",
      "See the caveats in the documentation: https://pandas.pydata.org/pandas-docs/stable/user_guide/indexing.html#returning-a-view-versus-a-copy\n",
      "  self._setitem_single_column(ilocs[0], value, pi)\n"
     ]
    },
    {
     "name": "stdout",
     "output_type": "stream",
     "text": [
      "No range_climate_limit for cdir10\n"
     ]
    },
    {
     "name": "stderr",
     "output_type": "stream",
     "text": [
      "/home/soutobias/.pyenv/versions/3.8.6/envs/lewagon/lib/python3.8/site-packages/pandas/core/indexing.py:1676: SettingWithCopyWarning: \n",
      "A value is trying to be set on a copy of a slice from a DataFrame.\n",
      "Try using .loc[row_indexer,col_indexer] = value instead\n",
      "\n",
      "See the caveats in the documentation: https://pandas.pydata.org/pandas-docs/stable/user_guide/indexing.html#returning-a-view-versus-a-copy\n",
      "  self._setitem_single_column(ilocs[0], value, pi)\n"
     ]
    },
    {
     "name": "stdout",
     "output_type": "stream",
     "text": [
      "No range_climate_limit for cdir11\n"
     ]
    },
    {
     "name": "stderr",
     "output_type": "stream",
     "text": [
      "/home/soutobias/.pyenv/versions/3.8.6/envs/lewagon/lib/python3.8/site-packages/pandas/core/indexing.py:1676: SettingWithCopyWarning: \n",
      "A value is trying to be set on a copy of a slice from a DataFrame.\n",
      "Try using .loc[row_indexer,col_indexer] = value instead\n",
      "\n",
      "See the caveats in the documentation: https://pandas.pydata.org/pandas-docs/stable/user_guide/indexing.html#returning-a-view-versus-a-copy\n",
      "  self._setitem_single_column(ilocs[0], value, pi)\n"
     ]
    },
    {
     "name": "stdout",
     "output_type": "stream",
     "text": [
      "No range_climate_limit for cdir12\n"
     ]
    },
    {
     "name": "stderr",
     "output_type": "stream",
     "text": [
      "/home/soutobias/.pyenv/versions/3.8.6/envs/lewagon/lib/python3.8/site-packages/pandas/core/indexing.py:1676: SettingWithCopyWarning: \n",
      "A value is trying to be set on a copy of a slice from a DataFrame.\n",
      "Try using .loc[row_indexer,col_indexer] = value instead\n",
      "\n",
      "See the caveats in the documentation: https://pandas.pydata.org/pandas-docs/stable/user_guide/indexing.html#returning-a-view-versus-a-copy\n",
      "  self._setitem_single_column(ilocs[0], value, pi)\n"
     ]
    },
    {
     "name": "stdout",
     "output_type": "stream",
     "text": [
      "No range_climate_limit for cdir13\n"
     ]
    },
    {
     "name": "stderr",
     "output_type": "stream",
     "text": [
      "/home/soutobias/.pyenv/versions/3.8.6/envs/lewagon/lib/python3.8/site-packages/pandas/core/indexing.py:1676: SettingWithCopyWarning: \n",
      "A value is trying to be set on a copy of a slice from a DataFrame.\n",
      "Try using .loc[row_indexer,col_indexer] = value instead\n",
      "\n",
      "See the caveats in the documentation: https://pandas.pydata.org/pandas-docs/stable/user_guide/indexing.html#returning-a-view-versus-a-copy\n",
      "  self._setitem_single_column(ilocs[0], value, pi)\n"
     ]
    },
    {
     "name": "stdout",
     "output_type": "stream",
     "text": [
      "No range_climate_limit for cdir14\n"
     ]
    },
    {
     "name": "stderr",
     "output_type": "stream",
     "text": [
      "/home/soutobias/.pyenv/versions/3.8.6/envs/lewagon/lib/python3.8/site-packages/pandas/core/indexing.py:1676: SettingWithCopyWarning: \n",
      "A value is trying to be set on a copy of a slice from a DataFrame.\n",
      "Try using .loc[row_indexer,col_indexer] = value instead\n",
      "\n",
      "See the caveats in the documentation: https://pandas.pydata.org/pandas-docs/stable/user_guide/indexing.html#returning-a-view-versus-a-copy\n",
      "  self._setitem_single_column(ilocs[0], value, pi)\n"
     ]
    },
    {
     "name": "stdout",
     "output_type": "stream",
     "text": [
      "No range_climate_limit for cdir15\n"
     ]
    },
    {
     "name": "stderr",
     "output_type": "stream",
     "text": [
      "/home/soutobias/.pyenv/versions/3.8.6/envs/lewagon/lib/python3.8/site-packages/pandas/core/indexing.py:1676: SettingWithCopyWarning: \n",
      "A value is trying to be set on a copy of a slice from a DataFrame.\n",
      "Try using .loc[row_indexer,col_indexer] = value instead\n",
      "\n",
      "See the caveats in the documentation: https://pandas.pydata.org/pandas-docs/stable/user_guide/indexing.html#returning-a-view-versus-a-copy\n",
      "  self._setitem_single_column(ilocs[0], value, pi)\n"
     ]
    },
    {
     "name": "stdout",
     "output_type": "stream",
     "text": [
      "No range_climate_limit for cdir16\n"
     ]
    },
    {
     "name": "stderr",
     "output_type": "stream",
     "text": [
      "/home/soutobias/.pyenv/versions/3.8.6/envs/lewagon/lib/python3.8/site-packages/pandas/core/indexing.py:1676: SettingWithCopyWarning: \n",
      "A value is trying to be set on a copy of a slice from a DataFrame.\n",
      "Try using .loc[row_indexer,col_indexer] = value instead\n",
      "\n",
      "See the caveats in the documentation: https://pandas.pydata.org/pandas-docs/stable/user_guide/indexing.html#returning-a-view-versus-a-copy\n",
      "  self._setitem_single_column(ilocs[0], value, pi)\n"
     ]
    },
    {
     "name": "stdout",
     "output_type": "stream",
     "text": [
      "No range_climate_limit for cdir17\n"
     ]
    },
    {
     "name": "stderr",
     "output_type": "stream",
     "text": [
      "/home/soutobias/.pyenv/versions/3.8.6/envs/lewagon/lib/python3.8/site-packages/pandas/core/indexing.py:1676: SettingWithCopyWarning: \n",
      "A value is trying to be set on a copy of a slice from a DataFrame.\n",
      "Try using .loc[row_indexer,col_indexer] = value instead\n",
      "\n",
      "See the caveats in the documentation: https://pandas.pydata.org/pandas-docs/stable/user_guide/indexing.html#returning-a-view-versus-a-copy\n",
      "  self._setitem_single_column(ilocs[0], value, pi)\n"
     ]
    },
    {
     "name": "stdout",
     "output_type": "stream",
     "text": [
      "No range_climate_limit for cdir18\n"
     ]
    },
    {
     "name": "stderr",
     "output_type": "stream",
     "text": [
      "/home/soutobias/.pyenv/versions/3.8.6/envs/lewagon/lib/python3.8/site-packages/pandas/core/indexing.py:1676: SettingWithCopyWarning: \n",
      "A value is trying to be set on a copy of a slice from a DataFrame.\n",
      "Try using .loc[row_indexer,col_indexer] = value instead\n",
      "\n",
      "See the caveats in the documentation: https://pandas.pydata.org/pandas-docs/stable/user_guide/indexing.html#returning-a-view-versus-a-copy\n",
      "  self._setitem_single_column(ilocs[0], value, pi)\n"
     ]
    },
    {
     "name": "stdout",
     "output_type": "stream",
     "text": [
      "No range_climate_limit for cdir19\n"
     ]
    },
    {
     "name": "stderr",
     "output_type": "stream",
     "text": [
      "/home/soutobias/.pyenv/versions/3.8.6/envs/lewagon/lib/python3.8/site-packages/pandas/core/indexing.py:1676: SettingWithCopyWarning: \n",
      "A value is trying to be set on a copy of a slice from a DataFrame.\n",
      "Try using .loc[row_indexer,col_indexer] = value instead\n",
      "\n",
      "See the caveats in the documentation: https://pandas.pydata.org/pandas-docs/stable/user_guide/indexing.html#returning-a-view-versus-a-copy\n",
      "  self._setitem_single_column(ilocs[0], value, pi)\n",
      "/home/soutobias/code/soutobias/soutobias_codes/remobs_qc/boias/bmo_br/real_time/bmo_quality_control.py:167: SettingWithCopyWarning: \n",
      "A value is trying to be set on a copy of a slice from a DataFrame.\n",
      "Try using .loc[row_indexer,col_indexer] = value instead\n",
      "\n",
      "See the caveats in the documentation: https://pandas.pydata.org/pandas-docs/stable/user_guide/indexing.html#returning-a-view-versus-a-copy\n",
      "  (df['uu'],df['vv'])=intdir2uv(df['cspd' + value], df['cdir' + value])\n"
     ]
    },
    {
     "name": "stdout",
     "output_type": "stream",
     "text": [
      "no data for cspd1\n"
     ]
    },
    {
     "name": "stderr",
     "output_type": "stream",
     "text": [
      "/home/soutobias/code/soutobias/soutobias_codes/remobs_qc/boias/bmo_br/real_time/bmo_quality_control.py:167: SettingWithCopyWarning: \n",
      "A value is trying to be set on a copy of a slice from a DataFrame.\n",
      "Try using .loc[row_indexer,col_indexer] = value instead\n",
      "\n",
      "See the caveats in the documentation: https://pandas.pydata.org/pandas-docs/stable/user_guide/indexing.html#returning-a-view-versus-a-copy\n",
      "  (df['uu'],df['vv'])=intdir2uv(df['cspd' + value], df['cdir' + value])\n"
     ]
    },
    {
     "name": "stdout",
     "output_type": "stream",
     "text": [
      "no data for cspd2\n"
     ]
    },
    {
     "name": "stderr",
     "output_type": "stream",
     "text": [
      "/home/soutobias/code/soutobias/soutobias_codes/remobs_qc/boias/bmo_br/real_time/bmo_quality_control.py:167: SettingWithCopyWarning: \n",
      "A value is trying to be set on a copy of a slice from a DataFrame.\n",
      "Try using .loc[row_indexer,col_indexer] = value instead\n",
      "\n",
      "See the caveats in the documentation: https://pandas.pydata.org/pandas-docs/stable/user_guide/indexing.html#returning-a-view-versus-a-copy\n",
      "  (df['uu'],df['vv'])=intdir2uv(df['cspd' + value], df['cdir' + value])\n"
     ]
    },
    {
     "name": "stdout",
     "output_type": "stream",
     "text": [
      "no data for cspd3\n"
     ]
    },
    {
     "name": "stderr",
     "output_type": "stream",
     "text": [
      "/home/soutobias/code/soutobias/soutobias_codes/remobs_qc/boias/bmo_br/real_time/bmo_quality_control.py:167: SettingWithCopyWarning: \n",
      "A value is trying to be set on a copy of a slice from a DataFrame.\n",
      "Try using .loc[row_indexer,col_indexer] = value instead\n",
      "\n",
      "See the caveats in the documentation: https://pandas.pydata.org/pandas-docs/stable/user_guide/indexing.html#returning-a-view-versus-a-copy\n",
      "  (df['uu'],df['vv'])=intdir2uv(df['cspd' + value], df['cdir' + value])\n"
     ]
    },
    {
     "name": "stdout",
     "output_type": "stream",
     "text": [
      "no data for cspd4\n"
     ]
    },
    {
     "name": "stderr",
     "output_type": "stream",
     "text": [
      "/home/soutobias/code/soutobias/soutobias_codes/remobs_qc/boias/bmo_br/real_time/bmo_quality_control.py:167: SettingWithCopyWarning: \n",
      "A value is trying to be set on a copy of a slice from a DataFrame.\n",
      "Try using .loc[row_indexer,col_indexer] = value instead\n",
      "\n",
      "See the caveats in the documentation: https://pandas.pydata.org/pandas-docs/stable/user_guide/indexing.html#returning-a-view-versus-a-copy\n",
      "  (df['uu'],df['vv'])=intdir2uv(df['cspd' + value], df['cdir' + value])\n"
     ]
    },
    {
     "name": "stdout",
     "output_type": "stream",
     "text": [
      "no data for cspd5\n"
     ]
    },
    {
     "name": "stderr",
     "output_type": "stream",
     "text": [
      "/home/soutobias/code/soutobias/soutobias_codes/remobs_qc/boias/bmo_br/real_time/bmo_quality_control.py:167: SettingWithCopyWarning: \n",
      "A value is trying to be set on a copy of a slice from a DataFrame.\n",
      "Try using .loc[row_indexer,col_indexer] = value instead\n",
      "\n",
      "See the caveats in the documentation: https://pandas.pydata.org/pandas-docs/stable/user_guide/indexing.html#returning-a-view-versus-a-copy\n",
      "  (df['uu'],df['vv'])=intdir2uv(df['cspd' + value], df['cdir' + value])\n"
     ]
    },
    {
     "name": "stdout",
     "output_type": "stream",
     "text": [
      "no data for cspd6\n"
     ]
    },
    {
     "name": "stderr",
     "output_type": "stream",
     "text": [
      "/home/soutobias/code/soutobias/soutobias_codes/remobs_qc/boias/bmo_br/real_time/bmo_quality_control.py:167: SettingWithCopyWarning: \n",
      "A value is trying to be set on a copy of a slice from a DataFrame.\n",
      "Try using .loc[row_indexer,col_indexer] = value instead\n",
      "\n",
      "See the caveats in the documentation: https://pandas.pydata.org/pandas-docs/stable/user_guide/indexing.html#returning-a-view-versus-a-copy\n",
      "  (df['uu'],df['vv'])=intdir2uv(df['cspd' + value], df['cdir' + value])\n"
     ]
    },
    {
     "name": "stdout",
     "output_type": "stream",
     "text": [
      "no data for cspd7\n"
     ]
    },
    {
     "name": "stderr",
     "output_type": "stream",
     "text": [
      "/home/soutobias/code/soutobias/soutobias_codes/remobs_qc/boias/bmo_br/real_time/bmo_quality_control.py:167: SettingWithCopyWarning: \n",
      "A value is trying to be set on a copy of a slice from a DataFrame.\n",
      "Try using .loc[row_indexer,col_indexer] = value instead\n",
      "\n",
      "See the caveats in the documentation: https://pandas.pydata.org/pandas-docs/stable/user_guide/indexing.html#returning-a-view-versus-a-copy\n",
      "  (df['uu'],df['vv'])=intdir2uv(df['cspd' + value], df['cdir' + value])\n"
     ]
    },
    {
     "name": "stdout",
     "output_type": "stream",
     "text": [
      "no data for cspd8\n"
     ]
    },
    {
     "name": "stderr",
     "output_type": "stream",
     "text": [
      "/home/soutobias/code/soutobias/soutobias_codes/remobs_qc/boias/bmo_br/real_time/bmo_quality_control.py:167: SettingWithCopyWarning: \n",
      "A value is trying to be set on a copy of a slice from a DataFrame.\n",
      "Try using .loc[row_indexer,col_indexer] = value instead\n",
      "\n",
      "See the caveats in the documentation: https://pandas.pydata.org/pandas-docs/stable/user_guide/indexing.html#returning-a-view-versus-a-copy\n",
      "  (df['uu'],df['vv'])=intdir2uv(df['cspd' + value], df['cdir' + value])\n"
     ]
    },
    {
     "name": "stdout",
     "output_type": "stream",
     "text": [
      "no data for cspd9\n"
     ]
    },
    {
     "name": "stderr",
     "output_type": "stream",
     "text": [
      "/home/soutobias/code/soutobias/soutobias_codes/remobs_qc/boias/bmo_br/real_time/bmo_quality_control.py:167: SettingWithCopyWarning: \n",
      "A value is trying to be set on a copy of a slice from a DataFrame.\n",
      "Try using .loc[row_indexer,col_indexer] = value instead\n",
      "\n",
      "See the caveats in the documentation: https://pandas.pydata.org/pandas-docs/stable/user_guide/indexing.html#returning-a-view-versus-a-copy\n",
      "  (df['uu'],df['vv'])=intdir2uv(df['cspd' + value], df['cdir' + value])\n"
     ]
    },
    {
     "name": "stdout",
     "output_type": "stream",
     "text": [
      "no data for cspd10\n"
     ]
    },
    {
     "name": "stderr",
     "output_type": "stream",
     "text": [
      "/home/soutobias/code/soutobias/soutobias_codes/remobs_qc/boias/bmo_br/real_time/bmo_quality_control.py:167: SettingWithCopyWarning: \n",
      "A value is trying to be set on a copy of a slice from a DataFrame.\n",
      "Try using .loc[row_indexer,col_indexer] = value instead\n",
      "\n",
      "See the caveats in the documentation: https://pandas.pydata.org/pandas-docs/stable/user_guide/indexing.html#returning-a-view-versus-a-copy\n",
      "  (df['uu'],df['vv'])=intdir2uv(df['cspd' + value], df['cdir' + value])\n"
     ]
    },
    {
     "name": "stdout",
     "output_type": "stream",
     "text": [
      "no data for cspd11\n"
     ]
    },
    {
     "name": "stderr",
     "output_type": "stream",
     "text": [
      "/home/soutobias/code/soutobias/soutobias_codes/remobs_qc/boias/bmo_br/real_time/bmo_quality_control.py:167: SettingWithCopyWarning: \n",
      "A value is trying to be set on a copy of a slice from a DataFrame.\n",
      "Try using .loc[row_indexer,col_indexer] = value instead\n",
      "\n",
      "See the caveats in the documentation: https://pandas.pydata.org/pandas-docs/stable/user_guide/indexing.html#returning-a-view-versus-a-copy\n",
      "  (df['uu'],df['vv'])=intdir2uv(df['cspd' + value], df['cdir' + value])\n"
     ]
    },
    {
     "name": "stdout",
     "output_type": "stream",
     "text": [
      "no data for cspd12\n"
     ]
    },
    {
     "name": "stderr",
     "output_type": "stream",
     "text": [
      "/home/soutobias/code/soutobias/soutobias_codes/remobs_qc/boias/bmo_br/real_time/bmo_quality_control.py:167: SettingWithCopyWarning: \n",
      "A value is trying to be set on a copy of a slice from a DataFrame.\n",
      "Try using .loc[row_indexer,col_indexer] = value instead\n",
      "\n",
      "See the caveats in the documentation: https://pandas.pydata.org/pandas-docs/stable/user_guide/indexing.html#returning-a-view-versus-a-copy\n",
      "  (df['uu'],df['vv'])=intdir2uv(df['cspd' + value], df['cdir' + value])\n"
     ]
    },
    {
     "name": "stdout",
     "output_type": "stream",
     "text": [
      "no data for cspd13\n"
     ]
    },
    {
     "name": "stderr",
     "output_type": "stream",
     "text": [
      "/home/soutobias/code/soutobias/soutobias_codes/remobs_qc/boias/bmo_br/real_time/bmo_quality_control.py:167: SettingWithCopyWarning: \n",
      "A value is trying to be set on a copy of a slice from a DataFrame.\n",
      "Try using .loc[row_indexer,col_indexer] = value instead\n",
      "\n",
      "See the caveats in the documentation: https://pandas.pydata.org/pandas-docs/stable/user_guide/indexing.html#returning-a-view-versus-a-copy\n",
      "  (df['uu'],df['vv'])=intdir2uv(df['cspd' + value], df['cdir' + value])\n"
     ]
    },
    {
     "name": "stdout",
     "output_type": "stream",
     "text": [
      "no data for cspd14\n"
     ]
    },
    {
     "name": "stderr",
     "output_type": "stream",
     "text": [
      "/home/soutobias/code/soutobias/soutobias_codes/remobs_qc/boias/bmo_br/real_time/bmo_quality_control.py:167: SettingWithCopyWarning: \n",
      "A value is trying to be set on a copy of a slice from a DataFrame.\n",
      "Try using .loc[row_indexer,col_indexer] = value instead\n",
      "\n",
      "See the caveats in the documentation: https://pandas.pydata.org/pandas-docs/stable/user_guide/indexing.html#returning-a-view-versus-a-copy\n",
      "  (df['uu'],df['vv'])=intdir2uv(df['cspd' + value], df['cdir' + value])\n"
     ]
    },
    {
     "name": "stdout",
     "output_type": "stream",
     "text": [
      "no data for cspd15\n"
     ]
    },
    {
     "name": "stderr",
     "output_type": "stream",
     "text": [
      "/home/soutobias/code/soutobias/soutobias_codes/remobs_qc/boias/bmo_br/real_time/bmo_quality_control.py:167: SettingWithCopyWarning: \n",
      "A value is trying to be set on a copy of a slice from a DataFrame.\n",
      "Try using .loc[row_indexer,col_indexer] = value instead\n",
      "\n",
      "See the caveats in the documentation: https://pandas.pydata.org/pandas-docs/stable/user_guide/indexing.html#returning-a-view-versus-a-copy\n",
      "  (df['uu'],df['vv'])=intdir2uv(df['cspd' + value], df['cdir' + value])\n"
     ]
    },
    {
     "name": "stdout",
     "output_type": "stream",
     "text": [
      "no data for cspd16\n"
     ]
    },
    {
     "name": "stderr",
     "output_type": "stream",
     "text": [
      "/home/soutobias/code/soutobias/soutobias_codes/remobs_qc/boias/bmo_br/real_time/bmo_quality_control.py:167: SettingWithCopyWarning: \n",
      "A value is trying to be set on a copy of a slice from a DataFrame.\n",
      "Try using .loc[row_indexer,col_indexer] = value instead\n",
      "\n",
      "See the caveats in the documentation: https://pandas.pydata.org/pandas-docs/stable/user_guide/indexing.html#returning-a-view-versus-a-copy\n",
      "  (df['uu'],df['vv'])=intdir2uv(df['cspd' + value], df['cdir' + value])\n"
     ]
    },
    {
     "name": "stdout",
     "output_type": "stream",
     "text": [
      "no data for cspd17\n"
     ]
    },
    {
     "name": "stderr",
     "output_type": "stream",
     "text": [
      "/home/soutobias/code/soutobias/soutobias_codes/remobs_qc/boias/bmo_br/real_time/bmo_quality_control.py:167: SettingWithCopyWarning: \n",
      "A value is trying to be set on a copy of a slice from a DataFrame.\n",
      "Try using .loc[row_indexer,col_indexer] = value instead\n",
      "\n",
      "See the caveats in the documentation: https://pandas.pydata.org/pandas-docs/stable/user_guide/indexing.html#returning-a-view-versus-a-copy\n",
      "  (df['uu'],df['vv'])=intdir2uv(df['cspd' + value], df['cdir' + value])\n"
     ]
    },
    {
     "name": "stdout",
     "output_type": "stream",
     "text": [
      "no data for cspd18\n",
      "no data for cspd19\n",
      "no data for cspd20\n",
      "BMO ADCP Data Qualified!\n"
     ]
    }
   ],
   "source": [
    "print(\"Qualifying General data...\")\n",
    "flag, bmo_qualified = bqc.qualitycontrol_adcp(bmo_general, id)"
   ]
  },
  {
   "cell_type": "code",
   "execution_count": 7,
   "id": "moral-platinum",
   "metadata": {},
   "outputs": [
    {
     "name": "stdout",
     "output_type": "stream",
     "text": [
      "Rotating....\n",
      "['cdir1', 'cdir2', 'cdir3', 'cdir4', 'cdir5', 'cdir6', 'cdir7', 'cdir8', 'cdir9', 'cdir10', 'cdir11', 'cdir12', 'cdir13', 'cdir14', 'cdir15', 'cdir16', 'cdir17', 'cdir18', 'cdir19', 'cdir20']\n",
      "No variable with the name cdir20\n"
     ]
    },
    {
     "name": "stderr",
     "output_type": "stream",
     "text": [
      "/home/soutobias/code/soutobias/soutobias_codes/remobs_qc/boias/bmo_br/real_time/bmo_adjust_data.py:164: SettingWithCopyWarning: \n",
      "A value is trying to be set on a copy of a slice from a DataFrame.\n",
      "Try using .loc[row_indexer,col_indexer] = value instead\n",
      "\n",
      "See the caveats in the documentation: https://pandas.pydata.org/pandas-docs/stable/user_guide/indexing.html#returning-a-view-versus-a-copy\n",
      "  df['tmp_dec'] = (df.index.year - 2020) * float(var_dec) + float(dec)\n",
      "/home/soutobias/.pyenv/versions/3.8.6/envs/lewagon/lib/python3.8/site-packages/pandas/core/indexing.py:1676: SettingWithCopyWarning: \n",
      "A value is trying to be set on a copy of a slice from a DataFrame.\n",
      "Try using .loc[row_indexer,col_indexer] = value instead\n",
      "\n",
      "See the caveats in the documentation: https://pandas.pydata.org/pandas-docs/stable/user_guide/indexing.html#returning-a-view-versus-a-copy\n",
      "  self._setitem_single_column(ilocs[0], value, pi)\n",
      "/home/soutobias/.pyenv/versions/3.8.6/envs/lewagon/lib/python3.8/site-packages/pandas/core/indexing.py:1676: SettingWithCopyWarning: \n",
      "A value is trying to be set on a copy of a slice from a DataFrame.\n",
      "Try using .loc[row_indexer,col_indexer] = value instead\n",
      "\n",
      "See the caveats in the documentation: https://pandas.pydata.org/pandas-docs/stable/user_guide/indexing.html#returning-a-view-versus-a-copy\n",
      "  self._setitem_single_column(ilocs[0], value, pi)\n",
      "/home/soutobias/.pyenv/versions/3.8.6/envs/lewagon/lib/python3.8/site-packages/pandas/core/indexing.py:1676: SettingWithCopyWarning: \n",
      "A value is trying to be set on a copy of a slice from a DataFrame.\n",
      "Try using .loc[row_indexer,col_indexer] = value instead\n",
      "\n",
      "See the caveats in the documentation: https://pandas.pydata.org/pandas-docs/stable/user_guide/indexing.html#returning-a-view-versus-a-copy\n",
      "  self._setitem_single_column(ilocs[0], value, pi)\n",
      "/home/soutobias/.pyenv/versions/3.8.6/envs/lewagon/lib/python3.8/site-packages/pandas/core/indexing.py:1676: SettingWithCopyWarning: \n",
      "A value is trying to be set on a copy of a slice from a DataFrame.\n",
      "Try using .loc[row_indexer,col_indexer] = value instead\n",
      "\n",
      "See the caveats in the documentation: https://pandas.pydata.org/pandas-docs/stable/user_guide/indexing.html#returning-a-view-versus-a-copy\n",
      "  self._setitem_single_column(ilocs[0], value, pi)\n",
      "/home/soutobias/.pyenv/versions/3.8.6/envs/lewagon/lib/python3.8/site-packages/pandas/core/indexing.py:1676: SettingWithCopyWarning: \n",
      "A value is trying to be set on a copy of a slice from a DataFrame.\n",
      "Try using .loc[row_indexer,col_indexer] = value instead\n",
      "\n",
      "See the caveats in the documentation: https://pandas.pydata.org/pandas-docs/stable/user_guide/indexing.html#returning-a-view-versus-a-copy\n",
      "  self._setitem_single_column(ilocs[0], value, pi)\n",
      "/home/soutobias/.pyenv/versions/3.8.6/envs/lewagon/lib/python3.8/site-packages/pandas/core/indexing.py:1676: SettingWithCopyWarning: \n",
      "A value is trying to be set on a copy of a slice from a DataFrame.\n",
      "Try using .loc[row_indexer,col_indexer] = value instead\n",
      "\n",
      "See the caveats in the documentation: https://pandas.pydata.org/pandas-docs/stable/user_guide/indexing.html#returning-a-view-versus-a-copy\n",
      "  self._setitem_single_column(ilocs[0], value, pi)\n",
      "/home/soutobias/.pyenv/versions/3.8.6/envs/lewagon/lib/python3.8/site-packages/pandas/core/indexing.py:1676: SettingWithCopyWarning: \n",
      "A value is trying to be set on a copy of a slice from a DataFrame.\n",
      "Try using .loc[row_indexer,col_indexer] = value instead\n",
      "\n",
      "See the caveats in the documentation: https://pandas.pydata.org/pandas-docs/stable/user_guide/indexing.html#returning-a-view-versus-a-copy\n",
      "  self._setitem_single_column(ilocs[0], value, pi)\n",
      "/home/soutobias/.pyenv/versions/3.8.6/envs/lewagon/lib/python3.8/site-packages/pandas/core/indexing.py:1676: SettingWithCopyWarning: \n",
      "A value is trying to be set on a copy of a slice from a DataFrame.\n",
      "Try using .loc[row_indexer,col_indexer] = value instead\n",
      "\n",
      "See the caveats in the documentation: https://pandas.pydata.org/pandas-docs/stable/user_guide/indexing.html#returning-a-view-versus-a-copy\n",
      "  self._setitem_single_column(ilocs[0], value, pi)\n",
      "/home/soutobias/.pyenv/versions/3.8.6/envs/lewagon/lib/python3.8/site-packages/pandas/core/indexing.py:1676: SettingWithCopyWarning: \n",
      "A value is trying to be set on a copy of a slice from a DataFrame.\n",
      "Try using .loc[row_indexer,col_indexer] = value instead\n",
      "\n",
      "See the caveats in the documentation: https://pandas.pydata.org/pandas-docs/stable/user_guide/indexing.html#returning-a-view-versus-a-copy\n",
      "  self._setitem_single_column(ilocs[0], value, pi)\n",
      "/home/soutobias/.pyenv/versions/3.8.6/envs/lewagon/lib/python3.8/site-packages/pandas/core/indexing.py:1676: SettingWithCopyWarning: \n",
      "A value is trying to be set on a copy of a slice from a DataFrame.\n",
      "Try using .loc[row_indexer,col_indexer] = value instead\n",
      "\n",
      "See the caveats in the documentation: https://pandas.pydata.org/pandas-docs/stable/user_guide/indexing.html#returning-a-view-versus-a-copy\n",
      "  self._setitem_single_column(ilocs[0], value, pi)\n",
      "/home/soutobias/.pyenv/versions/3.8.6/envs/lewagon/lib/python3.8/site-packages/pandas/core/indexing.py:1676: SettingWithCopyWarning: \n",
      "A value is trying to be set on a copy of a slice from a DataFrame.\n",
      "Try using .loc[row_indexer,col_indexer] = value instead\n",
      "\n",
      "See the caveats in the documentation: https://pandas.pydata.org/pandas-docs/stable/user_guide/indexing.html#returning-a-view-versus-a-copy\n",
      "  self._setitem_single_column(ilocs[0], value, pi)\n",
      "/home/soutobias/.pyenv/versions/3.8.6/envs/lewagon/lib/python3.8/site-packages/pandas/core/indexing.py:1676: SettingWithCopyWarning: \n",
      "A value is trying to be set on a copy of a slice from a DataFrame.\n",
      "Try using .loc[row_indexer,col_indexer] = value instead\n",
      "\n",
      "See the caveats in the documentation: https://pandas.pydata.org/pandas-docs/stable/user_guide/indexing.html#returning-a-view-versus-a-copy\n",
      "  self._setitem_single_column(ilocs[0], value, pi)\n",
      "/home/soutobias/.pyenv/versions/3.8.6/envs/lewagon/lib/python3.8/site-packages/pandas/core/indexing.py:1676: SettingWithCopyWarning: \n",
      "A value is trying to be set on a copy of a slice from a DataFrame.\n",
      "Try using .loc[row_indexer,col_indexer] = value instead\n",
      "\n",
      "See the caveats in the documentation: https://pandas.pydata.org/pandas-docs/stable/user_guide/indexing.html#returning-a-view-versus-a-copy\n",
      "  self._setitem_single_column(ilocs[0], value, pi)\n",
      "/home/soutobias/.pyenv/versions/3.8.6/envs/lewagon/lib/python3.8/site-packages/pandas/core/indexing.py:1676: SettingWithCopyWarning: \n",
      "A value is trying to be set on a copy of a slice from a DataFrame.\n",
      "Try using .loc[row_indexer,col_indexer] = value instead\n",
      "\n",
      "See the caveats in the documentation: https://pandas.pydata.org/pandas-docs/stable/user_guide/indexing.html#returning-a-view-versus-a-copy\n",
      "  self._setitem_single_column(ilocs[0], value, pi)\n",
      "/home/soutobias/.pyenv/versions/3.8.6/envs/lewagon/lib/python3.8/site-packages/pandas/core/indexing.py:1676: SettingWithCopyWarning: \n",
      "A value is trying to be set on a copy of a slice from a DataFrame.\n",
      "Try using .loc[row_indexer,col_indexer] = value instead\n",
      "\n",
      "See the caveats in the documentation: https://pandas.pydata.org/pandas-docs/stable/user_guide/indexing.html#returning-a-view-versus-a-copy\n",
      "  self._setitem_single_column(ilocs[0], value, pi)\n",
      "/home/soutobias/.pyenv/versions/3.8.6/envs/lewagon/lib/python3.8/site-packages/pandas/core/indexing.py:1676: SettingWithCopyWarning: \n",
      "A value is trying to be set on a copy of a slice from a DataFrame.\n",
      "Try using .loc[row_indexer,col_indexer] = value instead\n",
      "\n",
      "See the caveats in the documentation: https://pandas.pydata.org/pandas-docs/stable/user_guide/indexing.html#returning-a-view-versus-a-copy\n",
      "  self._setitem_single_column(ilocs[0], value, pi)\n",
      "/home/soutobias/.pyenv/versions/3.8.6/envs/lewagon/lib/python3.8/site-packages/pandas/core/indexing.py:1676: SettingWithCopyWarning: \n",
      "A value is trying to be set on a copy of a slice from a DataFrame.\n",
      "Try using .loc[row_indexer,col_indexer] = value instead\n",
      "\n",
      "See the caveats in the documentation: https://pandas.pydata.org/pandas-docs/stable/user_guide/indexing.html#returning-a-view-versus-a-copy\n",
      "  self._setitem_single_column(ilocs[0], value, pi)\n",
      "/home/soutobias/.pyenv/versions/3.8.6/envs/lewagon/lib/python3.8/site-packages/pandas/core/indexing.py:1676: SettingWithCopyWarning: \n",
      "A value is trying to be set on a copy of a slice from a DataFrame.\n",
      "Try using .loc[row_indexer,col_indexer] = value instead\n",
      "\n",
      "See the caveats in the documentation: https://pandas.pydata.org/pandas-docs/stable/user_guide/indexing.html#returning-a-view-versus-a-copy\n",
      "  self._setitem_single_column(ilocs[0], value, pi)\n",
      "/home/soutobias/.pyenv/versions/3.8.6/envs/lewagon/lib/python3.8/site-packages/pandas/core/indexing.py:1676: SettingWithCopyWarning: \n",
      "A value is trying to be set on a copy of a slice from a DataFrame.\n",
      "Try using .loc[row_indexer,col_indexer] = value instead\n",
      "\n",
      "See the caveats in the documentation: https://pandas.pydata.org/pandas-docs/stable/user_guide/indexing.html#returning-a-view-versus-a-copy\n",
      "  self._setitem_single_column(ilocs[0], value, pi)\n",
      "/home/soutobias/.pyenv/versions/3.8.6/envs/lewagon/lib/python3.8/site-packages/pandas/core/indexing.py:1676: SettingWithCopyWarning: \n",
      "A value is trying to be set on a copy of a slice from a DataFrame.\n",
      "Try using .loc[row_indexer,col_indexer] = value instead\n",
      "\n",
      "See the caveats in the documentation: https://pandas.pydata.org/pandas-docs/stable/user_guide/indexing.html#returning-a-view-versus-a-copy\n",
      "  self._setitem_single_column(ilocs[0], value, pi)\n",
      "/home/soutobias/.pyenv/versions/3.8.6/envs/lewagon/lib/python3.8/site-packages/pandas/core/indexing.py:1676: SettingWithCopyWarning: \n",
      "A value is trying to be set on a copy of a slice from a DataFrame.\n",
      "Try using .loc[row_indexer,col_indexer] = value instead\n",
      "\n",
      "See the caveats in the documentation: https://pandas.pydata.org/pandas-docs/stable/user_guide/indexing.html#returning-a-view-versus-a-copy\n",
      "  self._setitem_single_column(ilocs[0], value, pi)\n",
      "/home/soutobias/.pyenv/versions/3.8.6/envs/lewagon/lib/python3.8/site-packages/pandas/core/indexing.py:1676: SettingWithCopyWarning: \n",
      "A value is trying to be set on a copy of a slice from a DataFrame.\n",
      "Try using .loc[row_indexer,col_indexer] = value instead\n",
      "\n",
      "See the caveats in the documentation: https://pandas.pydata.org/pandas-docs/stable/user_guide/indexing.html#returning-a-view-versus-a-copy\n",
      "  self._setitem_single_column(ilocs[0], value, pi)\n",
      "/home/soutobias/.pyenv/versions/3.8.6/envs/lewagon/lib/python3.8/site-packages/pandas/core/indexing.py:1676: SettingWithCopyWarning: \n",
      "A value is trying to be set on a copy of a slice from a DataFrame.\n",
      "Try using .loc[row_indexer,col_indexer] = value instead\n",
      "\n",
      "See the caveats in the documentation: https://pandas.pydata.org/pandas-docs/stable/user_guide/indexing.html#returning-a-view-versus-a-copy\n",
      "  self._setitem_single_column(ilocs[0], value, pi)\n",
      "/home/soutobias/.pyenv/versions/3.8.6/envs/lewagon/lib/python3.8/site-packages/pandas/core/indexing.py:1676: SettingWithCopyWarning: \n",
      "A value is trying to be set on a copy of a slice from a DataFrame.\n",
      "Try using .loc[row_indexer,col_indexer] = value instead\n",
      "\n",
      "See the caveats in the documentation: https://pandas.pydata.org/pandas-docs/stable/user_guide/indexing.html#returning-a-view-versus-a-copy\n",
      "  self._setitem_single_column(ilocs[0], value, pi)\n",
      "/home/soutobias/.pyenv/versions/3.8.6/envs/lewagon/lib/python3.8/site-packages/pandas/core/indexing.py:1676: SettingWithCopyWarning: \n",
      "A value is trying to be set on a copy of a slice from a DataFrame.\n",
      "Try using .loc[row_indexer,col_indexer] = value instead\n",
      "\n",
      "See the caveats in the documentation: https://pandas.pydata.org/pandas-docs/stable/user_guide/indexing.html#returning-a-view-versus-a-copy\n",
      "  self._setitem_single_column(ilocs[0], value, pi)\n",
      "/home/soutobias/.pyenv/versions/3.8.6/envs/lewagon/lib/python3.8/site-packages/pandas/core/indexing.py:1676: SettingWithCopyWarning: \n",
      "A value is trying to be set on a copy of a slice from a DataFrame.\n",
      "Try using .loc[row_indexer,col_indexer] = value instead\n",
      "\n",
      "See the caveats in the documentation: https://pandas.pydata.org/pandas-docs/stable/user_guide/indexing.html#returning-a-view-versus-a-copy\n",
      "  self._setitem_single_column(ilocs[0], value, pi)\n",
      "/home/soutobias/.pyenv/versions/3.8.6/envs/lewagon/lib/python3.8/site-packages/pandas/core/indexing.py:1676: SettingWithCopyWarning: \n",
      "A value is trying to be set on a copy of a slice from a DataFrame.\n",
      "Try using .loc[row_indexer,col_indexer] = value instead\n",
      "\n",
      "See the caveats in the documentation: https://pandas.pydata.org/pandas-docs/stable/user_guide/indexing.html#returning-a-view-versus-a-copy\n",
      "  self._setitem_single_column(ilocs[0], value, pi)\n",
      "/home/soutobias/.pyenv/versions/3.8.6/envs/lewagon/lib/python3.8/site-packages/pandas/core/indexing.py:1676: SettingWithCopyWarning: \n",
      "A value is trying to be set on a copy of a slice from a DataFrame.\n",
      "Try using .loc[row_indexer,col_indexer] = value instead\n",
      "\n",
      "See the caveats in the documentation: https://pandas.pydata.org/pandas-docs/stable/user_guide/indexing.html#returning-a-view-versus-a-copy\n",
      "  self._setitem_single_column(ilocs[0], value, pi)\n",
      "/home/soutobias/.pyenv/versions/3.8.6/envs/lewagon/lib/python3.8/site-packages/pandas/core/indexing.py:1676: SettingWithCopyWarning: \n",
      "A value is trying to be set on a copy of a slice from a DataFrame.\n",
      "Try using .loc[row_indexer,col_indexer] = value instead\n",
      "\n",
      "See the caveats in the documentation: https://pandas.pydata.org/pandas-docs/stable/user_guide/indexing.html#returning-a-view-versus-a-copy\n",
      "  self._setitem_single_column(ilocs[0], value, pi)\n",
      "/home/soutobias/.pyenv/versions/3.8.6/envs/lewagon/lib/python3.8/site-packages/pandas/core/indexing.py:1676: SettingWithCopyWarning: \n",
      "A value is trying to be set on a copy of a slice from a DataFrame.\n",
      "Try using .loc[row_indexer,col_indexer] = value instead\n",
      "\n",
      "See the caveats in the documentation: https://pandas.pydata.org/pandas-docs/stable/user_guide/indexing.html#returning-a-view-versus-a-copy\n",
      "  self._setitem_single_column(ilocs[0], value, pi)\n",
      "/home/soutobias/.pyenv/versions/3.8.6/envs/lewagon/lib/python3.8/site-packages/pandas/core/indexing.py:1676: SettingWithCopyWarning: \n",
      "A value is trying to be set on a copy of a slice from a DataFrame.\n",
      "Try using .loc[row_indexer,col_indexer] = value instead\n",
      "\n",
      "See the caveats in the documentation: https://pandas.pydata.org/pandas-docs/stable/user_guide/indexing.html#returning-a-view-versus-a-copy\n",
      "  self._setitem_single_column(ilocs[0], value, pi)\n",
      "/home/soutobias/.pyenv/versions/3.8.6/envs/lewagon/lib/python3.8/site-packages/pandas/core/indexing.py:1676: SettingWithCopyWarning: \n",
      "A value is trying to be set on a copy of a slice from a DataFrame.\n",
      "Try using .loc[row_indexer,col_indexer] = value instead\n",
      "\n",
      "See the caveats in the documentation: https://pandas.pydata.org/pandas-docs/stable/user_guide/indexing.html#returning-a-view-versus-a-copy\n",
      "  self._setitem_single_column(ilocs[0], value, pi)\n",
      "/home/soutobias/.pyenv/versions/3.8.6/envs/lewagon/lib/python3.8/site-packages/pandas/core/indexing.py:1676: SettingWithCopyWarning: \n",
      "A value is trying to be set on a copy of a slice from a DataFrame.\n",
      "Try using .loc[row_indexer,col_indexer] = value instead\n",
      "\n",
      "See the caveats in the documentation: https://pandas.pydata.org/pandas-docs/stable/user_guide/indexing.html#returning-a-view-versus-a-copy\n",
      "  self._setitem_single_column(ilocs[0], value, pi)\n",
      "/home/soutobias/.pyenv/versions/3.8.6/envs/lewagon/lib/python3.8/site-packages/pandas/core/indexing.py:1676: SettingWithCopyWarning: \n",
      "A value is trying to be set on a copy of a slice from a DataFrame.\n",
      "Try using .loc[row_indexer,col_indexer] = value instead\n",
      "\n",
      "See the caveats in the documentation: https://pandas.pydata.org/pandas-docs/stable/user_guide/indexing.html#returning-a-view-versus-a-copy\n",
      "  self._setitem_single_column(ilocs[0], value, pi)\n",
      "/home/soutobias/.pyenv/versions/3.8.6/envs/lewagon/lib/python3.8/site-packages/pandas/core/indexing.py:1676: SettingWithCopyWarning: \n",
      "A value is trying to be set on a copy of a slice from a DataFrame.\n",
      "Try using .loc[row_indexer,col_indexer] = value instead\n",
      "\n",
      "See the caveats in the documentation: https://pandas.pydata.org/pandas-docs/stable/user_guide/indexing.html#returning-a-view-versus-a-copy\n",
      "  self._setitem_single_column(ilocs[0], value, pi)\n",
      "/home/soutobias/.pyenv/versions/3.8.6/envs/lewagon/lib/python3.8/site-packages/pandas/core/indexing.py:1676: SettingWithCopyWarning: \n",
      "A value is trying to be set on a copy of a slice from a DataFrame.\n",
      "Try using .loc[row_indexer,col_indexer] = value instead\n",
      "\n",
      "See the caveats in the documentation: https://pandas.pydata.org/pandas-docs/stable/user_guide/indexing.html#returning-a-view-versus-a-copy\n",
      "  self._setitem_single_column(ilocs[0], value, pi)\n",
      "/home/soutobias/.pyenv/versions/3.8.6/envs/lewagon/lib/python3.8/site-packages/pandas/core/indexing.py:1676: SettingWithCopyWarning: \n",
      "A value is trying to be set on a copy of a slice from a DataFrame.\n",
      "Try using .loc[row_indexer,col_indexer] = value instead\n",
      "\n",
      "See the caveats in the documentation: https://pandas.pydata.org/pandas-docs/stable/user_guide/indexing.html#returning-a-view-versus-a-copy\n",
      "  self._setitem_single_column(ilocs[0], value, pi)\n"
     ]
    }
   ],
   "source": [
    "conn = connect_database_remo('PRI')\n",
    "\n",
    "print(\"Rotating....\")\n",
    "parameters = []\n",
    "for i in range(20):\n",
    "    parameters.append(f\"cdir{i+1}\")\n",
    "print(parameters)\n",
    "bmo_qualified = rotate_data(conn, bmo_qualified, flag, id, parameters)\n"
   ]
  },
  {
   "cell_type": "code",
   "execution_count": 9,
   "id": "sought-terminal",
   "metadata": {},
   "outputs": [],
   "source": [
    "flag = rename_flag_data(flag)\n",
    "\n",
    "bmo_merged = pd.merge(bmo_qualified, flag, how = 'outer', on = 'date_time',\n",
    "                      validate = 'one_to_one')\n"
   ]
  },
  {
   "cell_type": "code",
   "execution_count": 11,
   "id": "experimental-barrier",
   "metadata": {},
   "outputs": [
    {
     "name": "stdout",
     "output_type": "stream",
     "text": [
      "General Data ready.\n",
      "\n",
      "\n",
      "\n",
      "Closing connection with Raw Database\n",
      "\n",
      "Connection closed.\n",
      "\n"
     ]
    }
   ],
   "source": [
    "print(\"General Data ready.\")\n",
    "print('\\n'*2)\n",
    "\n",
    "print(\"Closing connection with Raw Database\\n\")\n",
    "conn.close() # Closing connection with raw database\n",
    "print(\"Connection closed.\\n\")\n",
    "\n"
   ]
  },
  {
   "cell_type": "code",
   "execution_count": 28,
   "id": "binding-paris",
   "metadata": {},
   "outputs": [
    {
     "data": {
      "text/html": [
       "<div>\n",
       "<style scoped>\n",
       "    .dataframe tbody tr th:only-of-type {\n",
       "        vertical-align: middle;\n",
       "    }\n",
       "\n",
       "    .dataframe tbody tr th {\n",
       "        vertical-align: top;\n",
       "    }\n",
       "\n",
       "    .dataframe thead th {\n",
       "        text-align: right;\n",
       "    }\n",
       "</style>\n",
       "<table border=\"1\" class=\"dataframe\">\n",
       "  <thead>\n",
       "    <tr style=\"text-align: right;\">\n",
       "      <th></th>\n",
       "      <th>buoy_id</th>\n",
       "      <th>id</th>\n",
       "      <th>lat</th>\n",
       "      <th>lon</th>\n",
       "      <th>cspd1</th>\n",
       "      <th>cdir1</th>\n",
       "      <th>cspd2</th>\n",
       "      <th>cdir2</th>\n",
       "      <th>cspd3</th>\n",
       "      <th>cdir3</th>\n",
       "      <th>...</th>\n",
       "      <th>cspd14</th>\n",
       "      <th>cdir14</th>\n",
       "      <th>cspd15</th>\n",
       "      <th>cdir15</th>\n",
       "      <th>cspd16</th>\n",
       "      <th>cdir16</th>\n",
       "      <th>cspd17</th>\n",
       "      <th>cdir17</th>\n",
       "      <th>cspd18</th>\n",
       "      <th>cdir18</th>\n",
       "    </tr>\n",
       "    <tr>\n",
       "      <th>date_time</th>\n",
       "      <th></th>\n",
       "      <th></th>\n",
       "      <th></th>\n",
       "      <th></th>\n",
       "      <th></th>\n",
       "      <th></th>\n",
       "      <th></th>\n",
       "      <th></th>\n",
       "      <th></th>\n",
       "      <th></th>\n",
       "      <th></th>\n",
       "      <th></th>\n",
       "      <th></th>\n",
       "      <th></th>\n",
       "      <th></th>\n",
       "      <th></th>\n",
       "      <th></th>\n",
       "      <th></th>\n",
       "      <th></th>\n",
       "      <th></th>\n",
       "      <th></th>\n",
       "    </tr>\n",
       "  </thead>\n",
       "  <tbody>\n",
       "    <tr>\n",
       "      <th>2020-12-04 19:00:00</th>\n",
       "      <td>2</td>\n",
       "      <td>371</td>\n",
       "      <td>-22.8843</td>\n",
       "      <td>-43.1356</td>\n",
       "      <td>NaN</td>\n",
       "      <td>-9639</td>\n",
       "      <td>NaN</td>\n",
       "      <td>-9639</td>\n",
       "      <td>NaN</td>\n",
       "      <td>-9639</td>\n",
       "      <td>...</td>\n",
       "      <td>NaN</td>\n",
       "      <td>-9639</td>\n",
       "      <td>NaN</td>\n",
       "      <td>-9639</td>\n",
       "      <td>NaN</td>\n",
       "      <td>-9639</td>\n",
       "      <td>NaN</td>\n",
       "      <td>-9639</td>\n",
       "      <td>NaN</td>\n",
       "      <td>-9639</td>\n",
       "    </tr>\n",
       "    <tr>\n",
       "      <th>2020-12-08 09:00:00</th>\n",
       "      <td>2</td>\n",
       "      <td>372</td>\n",
       "      <td>-22.8976</td>\n",
       "      <td>-43.1522</td>\n",
       "      <td>NaN</td>\n",
       "      <td>-9639</td>\n",
       "      <td>NaN</td>\n",
       "      <td>-9639</td>\n",
       "      <td>NaN</td>\n",
       "      <td>-9639</td>\n",
       "      <td>...</td>\n",
       "      <td>NaN</td>\n",
       "      <td>-9639</td>\n",
       "      <td>NaN</td>\n",
       "      <td>-9639</td>\n",
       "      <td>NaN</td>\n",
       "      <td>-9639</td>\n",
       "      <td>NaN</td>\n",
       "      <td>-9639</td>\n",
       "      <td>NaN</td>\n",
       "      <td>-9639</td>\n",
       "    </tr>\n",
       "    <tr>\n",
       "      <th>2020-12-08 08:00:00</th>\n",
       "      <td>2</td>\n",
       "      <td>373</td>\n",
       "      <td>-22.8842</td>\n",
       "      <td>-43.1356</td>\n",
       "      <td>NaN</td>\n",
       "      <td>-9639</td>\n",
       "      <td>NaN</td>\n",
       "      <td>-9639</td>\n",
       "      <td>NaN</td>\n",
       "      <td>-9639</td>\n",
       "      <td>...</td>\n",
       "      <td>NaN</td>\n",
       "      <td>-9639</td>\n",
       "      <td>NaN</td>\n",
       "      <td>-9639</td>\n",
       "      <td>NaN</td>\n",
       "      <td>-9639</td>\n",
       "      <td>NaN</td>\n",
       "      <td>-9639</td>\n",
       "      <td>NaN</td>\n",
       "      <td>-9639</td>\n",
       "    </tr>\n",
       "    <tr>\n",
       "      <th>2020-12-08 07:00:00</th>\n",
       "      <td>2</td>\n",
       "      <td>374</td>\n",
       "      <td>-22.8842</td>\n",
       "      <td>-43.1356</td>\n",
       "      <td>NaN</td>\n",
       "      <td>-9639</td>\n",
       "      <td>NaN</td>\n",
       "      <td>-9639</td>\n",
       "      <td>NaN</td>\n",
       "      <td>-9639</td>\n",
       "      <td>...</td>\n",
       "      <td>NaN</td>\n",
       "      <td>-9639</td>\n",
       "      <td>NaN</td>\n",
       "      <td>-9639</td>\n",
       "      <td>NaN</td>\n",
       "      <td>-9639</td>\n",
       "      <td>NaN</td>\n",
       "      <td>-9639</td>\n",
       "      <td>NaN</td>\n",
       "      <td>-9639</td>\n",
       "    </tr>\n",
       "    <tr>\n",
       "      <th>2020-12-08 06:00:00</th>\n",
       "      <td>2</td>\n",
       "      <td>375</td>\n",
       "      <td>-22.8842</td>\n",
       "      <td>-43.1356</td>\n",
       "      <td>NaN</td>\n",
       "      <td>-9639</td>\n",
       "      <td>NaN</td>\n",
       "      <td>-9639</td>\n",
       "      <td>NaN</td>\n",
       "      <td>-9639</td>\n",
       "      <td>...</td>\n",
       "      <td>NaN</td>\n",
       "      <td>-9639</td>\n",
       "      <td>NaN</td>\n",
       "      <td>-9639</td>\n",
       "      <td>NaN</td>\n",
       "      <td>-9639</td>\n",
       "      <td>NaN</td>\n",
       "      <td>-9639</td>\n",
       "      <td>NaN</td>\n",
       "      <td>-9639</td>\n",
       "    </tr>\n",
       "    <tr>\n",
       "      <th>...</th>\n",
       "      <td>...</td>\n",
       "      <td>...</td>\n",
       "      <td>...</td>\n",
       "      <td>...</td>\n",
       "      <td>...</td>\n",
       "      <td>...</td>\n",
       "      <td>...</td>\n",
       "      <td>...</td>\n",
       "      <td>...</td>\n",
       "      <td>...</td>\n",
       "      <td>...</td>\n",
       "      <td>...</td>\n",
       "      <td>...</td>\n",
       "      <td>...</td>\n",
       "      <td>...</td>\n",
       "      <td>...</td>\n",
       "      <td>...</td>\n",
       "      <td>...</td>\n",
       "      <td>...</td>\n",
       "      <td>...</td>\n",
       "      <td>...</td>\n",
       "    </tr>\n",
       "    <tr>\n",
       "      <th>2021-04-18 19:00:00</th>\n",
       "      <td>2</td>\n",
       "      <td>3560</td>\n",
       "      <td>-25.5121</td>\n",
       "      <td>-42.7402</td>\n",
       "      <td>0.0</td>\n",
       "      <td>306</td>\n",
       "      <td>100.0</td>\n",
       "      <td>277</td>\n",
       "      <td>100.0</td>\n",
       "      <td>276</td>\n",
       "      <td>...</td>\n",
       "      <td>100.0</td>\n",
       "      <td>277</td>\n",
       "      <td>100.0</td>\n",
       "      <td>276</td>\n",
       "      <td>0.0</td>\n",
       "      <td>306</td>\n",
       "      <td>100.0</td>\n",
       "      <td>277</td>\n",
       "      <td>100.0</td>\n",
       "      <td>276</td>\n",
       "    </tr>\n",
       "    <tr>\n",
       "      <th>2021-04-18 20:00:00</th>\n",
       "      <td>2</td>\n",
       "      <td>3561</td>\n",
       "      <td>-25.5141</td>\n",
       "      <td>-42.7396</td>\n",
       "      <td>0.0</td>\n",
       "      <td>310</td>\n",
       "      <td>0.0</td>\n",
       "      <td>297</td>\n",
       "      <td>100.0</td>\n",
       "      <td>224</td>\n",
       "      <td>...</td>\n",
       "      <td>0.0</td>\n",
       "      <td>297</td>\n",
       "      <td>100.0</td>\n",
       "      <td>224</td>\n",
       "      <td>0.0</td>\n",
       "      <td>310</td>\n",
       "      <td>0.0</td>\n",
       "      <td>297</td>\n",
       "      <td>100.0</td>\n",
       "      <td>224</td>\n",
       "    </tr>\n",
       "    <tr>\n",
       "      <th>2021-04-18 21:00:00</th>\n",
       "      <td>2</td>\n",
       "      <td>3562</td>\n",
       "      <td>-25.5160</td>\n",
       "      <td>-42.7382</td>\n",
       "      <td>0.0</td>\n",
       "      <td>294</td>\n",
       "      <td>100.0</td>\n",
       "      <td>235</td>\n",
       "      <td>100.0</td>\n",
       "      <td>229</td>\n",
       "      <td>...</td>\n",
       "      <td>100.0</td>\n",
       "      <td>235</td>\n",
       "      <td>100.0</td>\n",
       "      <td>229</td>\n",
       "      <td>0.0</td>\n",
       "      <td>294</td>\n",
       "      <td>100.0</td>\n",
       "      <td>235</td>\n",
       "      <td>100.0</td>\n",
       "      <td>229</td>\n",
       "    </tr>\n",
       "    <tr>\n",
       "      <th>2021-04-18 22:00:00</th>\n",
       "      <td>2</td>\n",
       "      <td>3563</td>\n",
       "      <td>-25.5168</td>\n",
       "      <td>-42.7371</td>\n",
       "      <td>0.0</td>\n",
       "      <td>26</td>\n",
       "      <td>0.0</td>\n",
       "      <td>206</td>\n",
       "      <td>100.0</td>\n",
       "      <td>209</td>\n",
       "      <td>...</td>\n",
       "      <td>0.0</td>\n",
       "      <td>206</td>\n",
       "      <td>100.0</td>\n",
       "      <td>209</td>\n",
       "      <td>0.0</td>\n",
       "      <td>26</td>\n",
       "      <td>0.0</td>\n",
       "      <td>206</td>\n",
       "      <td>100.0</td>\n",
       "      <td>209</td>\n",
       "    </tr>\n",
       "    <tr>\n",
       "      <th>2021-04-18 23:00:00</th>\n",
       "      <td>2</td>\n",
       "      <td>3564</td>\n",
       "      <td>-25.5173</td>\n",
       "      <td>-42.7365</td>\n",
       "      <td>0.0</td>\n",
       "      <td>254</td>\n",
       "      <td>0.0</td>\n",
       "      <td>218</td>\n",
       "      <td>200.0</td>\n",
       "      <td>199</td>\n",
       "      <td>...</td>\n",
       "      <td>0.0</td>\n",
       "      <td>218</td>\n",
       "      <td>200.0</td>\n",
       "      <td>199</td>\n",
       "      <td>0.0</td>\n",
       "      <td>254</td>\n",
       "      <td>0.0</td>\n",
       "      <td>218</td>\n",
       "      <td>200.0</td>\n",
       "      <td>199</td>\n",
       "    </tr>\n",
       "  </tbody>\n",
       "</table>\n",
       "<p>3190 rows × 40 columns</p>\n",
       "</div>"
      ],
      "text/plain": [
       "                     buoy_id    id      lat      lon  cspd1  cdir1  cspd2  \\\n",
       "date_time                                                                   \n",
       "2020-12-04 19:00:00        2   371 -22.8843 -43.1356    NaN  -9639    NaN   \n",
       "2020-12-08 09:00:00        2   372 -22.8976 -43.1522    NaN  -9639    NaN   \n",
       "2020-12-08 08:00:00        2   373 -22.8842 -43.1356    NaN  -9639    NaN   \n",
       "2020-12-08 07:00:00        2   374 -22.8842 -43.1356    NaN  -9639    NaN   \n",
       "2020-12-08 06:00:00        2   375 -22.8842 -43.1356    NaN  -9639    NaN   \n",
       "...                      ...   ...      ...      ...    ...    ...    ...   \n",
       "2021-04-18 19:00:00        2  3560 -25.5121 -42.7402    0.0    306  100.0   \n",
       "2021-04-18 20:00:00        2  3561 -25.5141 -42.7396    0.0    310    0.0   \n",
       "2021-04-18 21:00:00        2  3562 -25.5160 -42.7382    0.0    294  100.0   \n",
       "2021-04-18 22:00:00        2  3563 -25.5168 -42.7371    0.0     26    0.0   \n",
       "2021-04-18 23:00:00        2  3564 -25.5173 -42.7365    0.0    254    0.0   \n",
       "\n",
       "                     cdir2  cspd3  cdir3  ...  cspd14  cdir14  cspd15  cdir15  \\\n",
       "date_time                                 ...                                   \n",
       "2020-12-04 19:00:00  -9639    NaN  -9639  ...     NaN   -9639     NaN   -9639   \n",
       "2020-12-08 09:00:00  -9639    NaN  -9639  ...     NaN   -9639     NaN   -9639   \n",
       "2020-12-08 08:00:00  -9639    NaN  -9639  ...     NaN   -9639     NaN   -9639   \n",
       "2020-12-08 07:00:00  -9639    NaN  -9639  ...     NaN   -9639     NaN   -9639   \n",
       "2020-12-08 06:00:00  -9639    NaN  -9639  ...     NaN   -9639     NaN   -9639   \n",
       "...                    ...    ...    ...  ...     ...     ...     ...     ...   \n",
       "2021-04-18 19:00:00    277  100.0    276  ...   100.0     277   100.0     276   \n",
       "2021-04-18 20:00:00    297  100.0    224  ...     0.0     297   100.0     224   \n",
       "2021-04-18 21:00:00    235  100.0    229  ...   100.0     235   100.0     229   \n",
       "2021-04-18 22:00:00    206  100.0    209  ...     0.0     206   100.0     209   \n",
       "2021-04-18 23:00:00    218  200.0    199  ...     0.0     218   200.0     199   \n",
       "\n",
       "                     cspd16  cdir16  cspd17  cdir17  cspd18  cdir18  \n",
       "date_time                                                            \n",
       "2020-12-04 19:00:00     NaN   -9639     NaN   -9639     NaN   -9639  \n",
       "2020-12-08 09:00:00     NaN   -9639     NaN   -9639     NaN   -9639  \n",
       "2020-12-08 08:00:00     NaN   -9639     NaN   -9639     NaN   -9639  \n",
       "2020-12-08 07:00:00     NaN   -9639     NaN   -9639     NaN   -9639  \n",
       "2020-12-08 06:00:00     NaN   -9639     NaN   -9639     NaN   -9639  \n",
       "...                     ...     ...     ...     ...     ...     ...  \n",
       "2021-04-18 19:00:00     0.0     306   100.0     277   100.0     276  \n",
       "2021-04-18 20:00:00     0.0     310     0.0     297   100.0     224  \n",
       "2021-04-18 21:00:00     0.0     294   100.0     235   100.0     229  \n",
       "2021-04-18 22:00:00     0.0      26     0.0     206   100.0     209  \n",
       "2021-04-18 23:00:00     0.0     254     0.0     218   200.0     199  \n",
       "\n",
       "[3190 rows x 40 columns]"
      ]
     },
     "execution_count": 28,
     "metadata": {},
     "output_type": "execute_result"
    }
   ],
   "source": [
    "bmo_qc_data = adjust_bmo_current(bmo_merged)\n",
    "bmo_qc_data"
   ]
  },
  {
   "cell_type": "code",
   "execution_count": 29,
   "id": "falling-mistress",
   "metadata": {},
   "outputs": [],
   "source": [
    "\n",
    "# IDs Key values to delete \"old\" qualified data...\n",
    "ids_pk = bmo_qc_data[['id', 'buoy_id']]\n",
    "\n",
    "# TRANSFORMING TO ZULU TIME ( LOCAL + 3H )\n",
    "bmo_qc_data = zulu_time(bmo_qc_data)\n"
   ]
  },
  {
   "cell_type": "code",
   "execution_count": 32,
   "id": "fewer-crawford",
   "metadata": {},
   "outputs": [
    {
     "data": {
      "text/html": [
       "<div>\n",
       "<style scoped>\n",
       "    .dataframe tbody tr th:only-of-type {\n",
       "        vertical-align: middle;\n",
       "    }\n",
       "\n",
       "    .dataframe tbody tr th {\n",
       "        vertical-align: top;\n",
       "    }\n",
       "\n",
       "    .dataframe thead th {\n",
       "        text-align: right;\n",
       "    }\n",
       "</style>\n",
       "<table border=\"1\" class=\"dataframe\">\n",
       "  <thead>\n",
       "    <tr style=\"text-align: right;\">\n",
       "      <th></th>\n",
       "      <th>buoy_id</th>\n",
       "      <th>id</th>\n",
       "      <th>lat</th>\n",
       "      <th>lon</th>\n",
       "      <th>cspd1</th>\n",
       "      <th>cdir1</th>\n",
       "      <th>cspd2</th>\n",
       "      <th>cdir2</th>\n",
       "      <th>cspd3</th>\n",
       "      <th>cdir3</th>\n",
       "      <th>...</th>\n",
       "      <th>cspd14</th>\n",
       "      <th>cdir14</th>\n",
       "      <th>cspd15</th>\n",
       "      <th>cdir15</th>\n",
       "      <th>cspd16</th>\n",
       "      <th>cdir16</th>\n",
       "      <th>cspd17</th>\n",
       "      <th>cdir17</th>\n",
       "      <th>cspd18</th>\n",
       "      <th>cdir18</th>\n",
       "    </tr>\n",
       "    <tr>\n",
       "      <th>date_time</th>\n",
       "      <th></th>\n",
       "      <th></th>\n",
       "      <th></th>\n",
       "      <th></th>\n",
       "      <th></th>\n",
       "      <th></th>\n",
       "      <th></th>\n",
       "      <th></th>\n",
       "      <th></th>\n",
       "      <th></th>\n",
       "      <th></th>\n",
       "      <th></th>\n",
       "      <th></th>\n",
       "      <th></th>\n",
       "      <th></th>\n",
       "      <th></th>\n",
       "      <th></th>\n",
       "      <th></th>\n",
       "      <th></th>\n",
       "      <th></th>\n",
       "      <th></th>\n",
       "    </tr>\n",
       "  </thead>\n",
       "  <tbody>\n",
       "    <tr>\n",
       "      <th>2020-12-04 22:00:00</th>\n",
       "      <td>2</td>\n",
       "      <td>371</td>\n",
       "      <td>-22.8843</td>\n",
       "      <td>-43.1356</td>\n",
       "      <td>NaN</td>\n",
       "      <td>-9639</td>\n",
       "      <td>NaN</td>\n",
       "      <td>-9639</td>\n",
       "      <td>NaN</td>\n",
       "      <td>-9639</td>\n",
       "      <td>...</td>\n",
       "      <td>NaN</td>\n",
       "      <td>-9639</td>\n",
       "      <td>NaN</td>\n",
       "      <td>-9639</td>\n",
       "      <td>NaN</td>\n",
       "      <td>-9639</td>\n",
       "      <td>NaN</td>\n",
       "      <td>-9639</td>\n",
       "      <td>NaN</td>\n",
       "      <td>-9639</td>\n",
       "    </tr>\n",
       "    <tr>\n",
       "      <th>2020-12-08 12:00:00</th>\n",
       "      <td>2</td>\n",
       "      <td>372</td>\n",
       "      <td>-22.8976</td>\n",
       "      <td>-43.1522</td>\n",
       "      <td>NaN</td>\n",
       "      <td>-9639</td>\n",
       "      <td>NaN</td>\n",
       "      <td>-9639</td>\n",
       "      <td>NaN</td>\n",
       "      <td>-9639</td>\n",
       "      <td>...</td>\n",
       "      <td>NaN</td>\n",
       "      <td>-9639</td>\n",
       "      <td>NaN</td>\n",
       "      <td>-9639</td>\n",
       "      <td>NaN</td>\n",
       "      <td>-9639</td>\n",
       "      <td>NaN</td>\n",
       "      <td>-9639</td>\n",
       "      <td>NaN</td>\n",
       "      <td>-9639</td>\n",
       "    </tr>\n",
       "    <tr>\n",
       "      <th>2020-12-08 11:00:00</th>\n",
       "      <td>2</td>\n",
       "      <td>373</td>\n",
       "      <td>-22.8842</td>\n",
       "      <td>-43.1356</td>\n",
       "      <td>NaN</td>\n",
       "      <td>-9639</td>\n",
       "      <td>NaN</td>\n",
       "      <td>-9639</td>\n",
       "      <td>NaN</td>\n",
       "      <td>-9639</td>\n",
       "      <td>...</td>\n",
       "      <td>NaN</td>\n",
       "      <td>-9639</td>\n",
       "      <td>NaN</td>\n",
       "      <td>-9639</td>\n",
       "      <td>NaN</td>\n",
       "      <td>-9639</td>\n",
       "      <td>NaN</td>\n",
       "      <td>-9639</td>\n",
       "      <td>NaN</td>\n",
       "      <td>-9639</td>\n",
       "    </tr>\n",
       "    <tr>\n",
       "      <th>2020-12-08 10:00:00</th>\n",
       "      <td>2</td>\n",
       "      <td>374</td>\n",
       "      <td>-22.8842</td>\n",
       "      <td>-43.1356</td>\n",
       "      <td>NaN</td>\n",
       "      <td>-9639</td>\n",
       "      <td>NaN</td>\n",
       "      <td>-9639</td>\n",
       "      <td>NaN</td>\n",
       "      <td>-9639</td>\n",
       "      <td>...</td>\n",
       "      <td>NaN</td>\n",
       "      <td>-9639</td>\n",
       "      <td>NaN</td>\n",
       "      <td>-9639</td>\n",
       "      <td>NaN</td>\n",
       "      <td>-9639</td>\n",
       "      <td>NaN</td>\n",
       "      <td>-9639</td>\n",
       "      <td>NaN</td>\n",
       "      <td>-9639</td>\n",
       "    </tr>\n",
       "    <tr>\n",
       "      <th>2020-12-08 09:00:00</th>\n",
       "      <td>2</td>\n",
       "      <td>375</td>\n",
       "      <td>-22.8842</td>\n",
       "      <td>-43.1356</td>\n",
       "      <td>NaN</td>\n",
       "      <td>-9639</td>\n",
       "      <td>NaN</td>\n",
       "      <td>-9639</td>\n",
       "      <td>NaN</td>\n",
       "      <td>-9639</td>\n",
       "      <td>...</td>\n",
       "      <td>NaN</td>\n",
       "      <td>-9639</td>\n",
       "      <td>NaN</td>\n",
       "      <td>-9639</td>\n",
       "      <td>NaN</td>\n",
       "      <td>-9639</td>\n",
       "      <td>NaN</td>\n",
       "      <td>-9639</td>\n",
       "      <td>NaN</td>\n",
       "      <td>-9639</td>\n",
       "    </tr>\n",
       "    <tr>\n",
       "      <th>...</th>\n",
       "      <td>...</td>\n",
       "      <td>...</td>\n",
       "      <td>...</td>\n",
       "      <td>...</td>\n",
       "      <td>...</td>\n",
       "      <td>...</td>\n",
       "      <td>...</td>\n",
       "      <td>...</td>\n",
       "      <td>...</td>\n",
       "      <td>...</td>\n",
       "      <td>...</td>\n",
       "      <td>...</td>\n",
       "      <td>...</td>\n",
       "      <td>...</td>\n",
       "      <td>...</td>\n",
       "      <td>...</td>\n",
       "      <td>...</td>\n",
       "      <td>...</td>\n",
       "      <td>...</td>\n",
       "      <td>...</td>\n",
       "      <td>...</td>\n",
       "    </tr>\n",
       "    <tr>\n",
       "      <th>2021-04-18 22:00:00</th>\n",
       "      <td>2</td>\n",
       "      <td>3560</td>\n",
       "      <td>-25.5121</td>\n",
       "      <td>-42.7402</td>\n",
       "      <td>0.0</td>\n",
       "      <td>306</td>\n",
       "      <td>100.0</td>\n",
       "      <td>277</td>\n",
       "      <td>100.0</td>\n",
       "      <td>276</td>\n",
       "      <td>...</td>\n",
       "      <td>100.0</td>\n",
       "      <td>277</td>\n",
       "      <td>100.0</td>\n",
       "      <td>276</td>\n",
       "      <td>0.0</td>\n",
       "      <td>306</td>\n",
       "      <td>100.0</td>\n",
       "      <td>277</td>\n",
       "      <td>100.0</td>\n",
       "      <td>276</td>\n",
       "    </tr>\n",
       "    <tr>\n",
       "      <th>2021-04-18 23:00:00</th>\n",
       "      <td>2</td>\n",
       "      <td>3561</td>\n",
       "      <td>-25.5141</td>\n",
       "      <td>-42.7396</td>\n",
       "      <td>0.0</td>\n",
       "      <td>310</td>\n",
       "      <td>0.0</td>\n",
       "      <td>297</td>\n",
       "      <td>100.0</td>\n",
       "      <td>224</td>\n",
       "      <td>...</td>\n",
       "      <td>0.0</td>\n",
       "      <td>297</td>\n",
       "      <td>100.0</td>\n",
       "      <td>224</td>\n",
       "      <td>0.0</td>\n",
       "      <td>310</td>\n",
       "      <td>0.0</td>\n",
       "      <td>297</td>\n",
       "      <td>100.0</td>\n",
       "      <td>224</td>\n",
       "    </tr>\n",
       "    <tr>\n",
       "      <th>2021-04-19 00:00:00</th>\n",
       "      <td>2</td>\n",
       "      <td>3562</td>\n",
       "      <td>-25.5160</td>\n",
       "      <td>-42.7382</td>\n",
       "      <td>0.0</td>\n",
       "      <td>294</td>\n",
       "      <td>100.0</td>\n",
       "      <td>235</td>\n",
       "      <td>100.0</td>\n",
       "      <td>229</td>\n",
       "      <td>...</td>\n",
       "      <td>100.0</td>\n",
       "      <td>235</td>\n",
       "      <td>100.0</td>\n",
       "      <td>229</td>\n",
       "      <td>0.0</td>\n",
       "      <td>294</td>\n",
       "      <td>100.0</td>\n",
       "      <td>235</td>\n",
       "      <td>100.0</td>\n",
       "      <td>229</td>\n",
       "    </tr>\n",
       "    <tr>\n",
       "      <th>2021-04-19 01:00:00</th>\n",
       "      <td>2</td>\n",
       "      <td>3563</td>\n",
       "      <td>-25.5168</td>\n",
       "      <td>-42.7371</td>\n",
       "      <td>0.0</td>\n",
       "      <td>26</td>\n",
       "      <td>0.0</td>\n",
       "      <td>206</td>\n",
       "      <td>100.0</td>\n",
       "      <td>209</td>\n",
       "      <td>...</td>\n",
       "      <td>0.0</td>\n",
       "      <td>206</td>\n",
       "      <td>100.0</td>\n",
       "      <td>209</td>\n",
       "      <td>0.0</td>\n",
       "      <td>26</td>\n",
       "      <td>0.0</td>\n",
       "      <td>206</td>\n",
       "      <td>100.0</td>\n",
       "      <td>209</td>\n",
       "    </tr>\n",
       "    <tr>\n",
       "      <th>2021-04-19 02:00:00</th>\n",
       "      <td>2</td>\n",
       "      <td>3564</td>\n",
       "      <td>-25.5173</td>\n",
       "      <td>-42.7365</td>\n",
       "      <td>0.0</td>\n",
       "      <td>254</td>\n",
       "      <td>0.0</td>\n",
       "      <td>218</td>\n",
       "      <td>200.0</td>\n",
       "      <td>199</td>\n",
       "      <td>...</td>\n",
       "      <td>0.0</td>\n",
       "      <td>218</td>\n",
       "      <td>200.0</td>\n",
       "      <td>199</td>\n",
       "      <td>0.0</td>\n",
       "      <td>254</td>\n",
       "      <td>0.0</td>\n",
       "      <td>218</td>\n",
       "      <td>200.0</td>\n",
       "      <td>199</td>\n",
       "    </tr>\n",
       "  </tbody>\n",
       "</table>\n",
       "<p>3190 rows × 40 columns</p>\n",
       "</div>"
      ],
      "text/plain": [
       "                     buoy_id    id      lat      lon  cspd1  cdir1  cspd2  \\\n",
       "date_time                                                                   \n",
       "2020-12-04 22:00:00        2   371 -22.8843 -43.1356    NaN  -9639    NaN   \n",
       "2020-12-08 12:00:00        2   372 -22.8976 -43.1522    NaN  -9639    NaN   \n",
       "2020-12-08 11:00:00        2   373 -22.8842 -43.1356    NaN  -9639    NaN   \n",
       "2020-12-08 10:00:00        2   374 -22.8842 -43.1356    NaN  -9639    NaN   \n",
       "2020-12-08 09:00:00        2   375 -22.8842 -43.1356    NaN  -9639    NaN   \n",
       "...                      ...   ...      ...      ...    ...    ...    ...   \n",
       "2021-04-18 22:00:00        2  3560 -25.5121 -42.7402    0.0    306  100.0   \n",
       "2021-04-18 23:00:00        2  3561 -25.5141 -42.7396    0.0    310    0.0   \n",
       "2021-04-19 00:00:00        2  3562 -25.5160 -42.7382    0.0    294  100.0   \n",
       "2021-04-19 01:00:00        2  3563 -25.5168 -42.7371    0.0     26    0.0   \n",
       "2021-04-19 02:00:00        2  3564 -25.5173 -42.7365    0.0    254    0.0   \n",
       "\n",
       "                     cdir2  cspd3  cdir3  ...  cspd14  cdir14  cspd15  cdir15  \\\n",
       "date_time                                 ...                                   \n",
       "2020-12-04 22:00:00  -9639    NaN  -9639  ...     NaN   -9639     NaN   -9639   \n",
       "2020-12-08 12:00:00  -9639    NaN  -9639  ...     NaN   -9639     NaN   -9639   \n",
       "2020-12-08 11:00:00  -9639    NaN  -9639  ...     NaN   -9639     NaN   -9639   \n",
       "2020-12-08 10:00:00  -9639    NaN  -9639  ...     NaN   -9639     NaN   -9639   \n",
       "2020-12-08 09:00:00  -9639    NaN  -9639  ...     NaN   -9639     NaN   -9639   \n",
       "...                    ...    ...    ...  ...     ...     ...     ...     ...   \n",
       "2021-04-18 22:00:00    277  100.0    276  ...   100.0     277   100.0     276   \n",
       "2021-04-18 23:00:00    297  100.0    224  ...     0.0     297   100.0     224   \n",
       "2021-04-19 00:00:00    235  100.0    229  ...   100.0     235   100.0     229   \n",
       "2021-04-19 01:00:00    206  100.0    209  ...     0.0     206   100.0     209   \n",
       "2021-04-19 02:00:00    218  200.0    199  ...     0.0     218   200.0     199   \n",
       "\n",
       "                     cspd16  cdir16  cspd17  cdir17  cspd18  cdir18  \n",
       "date_time                                                            \n",
       "2020-12-04 22:00:00     NaN   -9639     NaN   -9639     NaN   -9639  \n",
       "2020-12-08 12:00:00     NaN   -9639     NaN   -9639     NaN   -9639  \n",
       "2020-12-08 11:00:00     NaN   -9639     NaN   -9639     NaN   -9639  \n",
       "2020-12-08 10:00:00     NaN   -9639     NaN   -9639     NaN   -9639  \n",
       "2020-12-08 09:00:00     NaN   -9639     NaN   -9639     NaN   -9639  \n",
       "...                     ...     ...     ...     ...     ...     ...  \n",
       "2021-04-18 22:00:00     0.0     306   100.0     277   100.0     276  \n",
       "2021-04-18 23:00:00     0.0     310     0.0     297   100.0     224  \n",
       "2021-04-19 00:00:00     0.0     294   100.0     235   100.0     229  \n",
       "2021-04-19 01:00:00     0.0      26     0.0     206   100.0     209  \n",
       "2021-04-19 02:00:00     0.0     254     0.0     218   200.0     199  \n",
       "\n",
       "[3190 rows x 40 columns]"
      ]
     },
     "execution_count": 32,
     "metadata": {},
     "output_type": "execute_result"
    }
   ],
   "source": [
    "bmo_qc_data"
   ]
  },
  {
   "cell_type": "code",
   "execution_count": 31,
   "id": "broadband-hygiene",
   "metadata": {},
   "outputs": [],
   "source": [
    "insert_bmo_adcp_qc_data(bmo_qc_data)"
   ]
  }
 ],
 "metadata": {
  "kernelspec": {
   "display_name": "Python 3",
   "language": "python",
   "name": "python3"
  },
  "language_info": {
   "codemirror_mode": {
    "name": "ipython",
    "version": 3
   },
   "file_extension": ".py",
   "mimetype": "text/x-python",
   "name": "python",
   "nbconvert_exporter": "python",
   "pygments_lexer": "ipython3",
   "version": "3.8.6"
  }
 },
 "nbformat": 4,
 "nbformat_minor": 5
}
